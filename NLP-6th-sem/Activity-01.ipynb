{
 "cells": [
  {
   "cell_type": "code",
   "execution_count": 2,
   "id": "b8683e58",
   "metadata": {},
   "outputs": [],
   "source": [
    "from nltk.tokenize import RegexpTokenizer"
   ]
  },
  {
   "cell_type": "code",
   "execution_count": 3,
   "id": "8ed9b602",
   "metadata": {
    "scrolled": true
   },
   "outputs": [
    {
     "data": {
      "text/plain": [
       "['Good',\n",
       " 'muffins',\n",
       " 'cost',\n",
       " '$3.88',\n",
       " 'in',\n",
       " 'New',\n",
       " 'York',\n",
       " '.',\n",
       " 'Please',\n",
       " 'buy',\n",
       " 'me',\n",
       " 'two',\n",
       " 'of',\n",
       " 'them',\n",
       " '.',\n",
       " 'Thanks',\n",
       " '.']"
      ]
     },
     "execution_count": 3,
     "metadata": {},
     "output_type": "execute_result"
    }
   ],
   "source": [
    "s = \"Good muffins cost $3.88\\nin New York.  Please buy me\\ntwo of them.\\n\\nThanks.\"\n",
    "tokenizer = RegexpTokenizer(r'\\w+|\\$[\\d\\.]+|\\S+')\n",
    "tokenizer.tokenize(s) "
   ]
  },
  {
   "cell_type": "code",
   "execution_count": 4,
   "id": "c3f494ae",
   "metadata": {},
   "outputs": [
    {
     "data": {
      "text/plain": [
       "['Good',\n",
       " 'muffins',\n",
       " 'cost',\n",
       " '$3.88',\n",
       " 'in',\n",
       " 'New',\n",
       " 'York.',\n",
       " 'Please',\n",
       " 'buy',\n",
       " 'me',\n",
       " 'two',\n",
       " 'of',\n",
       " 'them.',\n",
       " 'Thanks.']"
      ]
     },
     "execution_count": 4,
     "metadata": {},
     "output_type": "execute_result"
    }
   ],
   "source": [
    "tokenizer = RegexpTokenizer(r'\\s+', gaps=True)\n",
    "tokenizer.tokenize(s) "
   ]
  },
  {
   "cell_type": "code",
   "execution_count": 5,
   "id": "002d920e",
   "metadata": {},
   "outputs": [
    {
     "data": {
      "text/plain": [
       "['Good', 'New', 'York', 'Please', 'Thanks']"
      ]
     },
     "execution_count": 5,
     "metadata": {},
     "output_type": "execute_result"
    }
   ],
   "source": [
    "capword_tokenizer = RegexpTokenizer(r'[A-Z]\\w+')\n",
    "capword_tokenizer.tokenize(s)"
   ]
  },
  {
   "cell_type": "code",
   "execution_count": 6,
   "id": "24cc6119",
   "metadata": {},
   "outputs": [],
   "source": [
    "from nltk.tokenize import BlanklineTokenizer"
   ]
  },
  {
   "cell_type": "code",
   "execution_count": 7,
   "id": "8a7b60c9",
   "metadata": {},
   "outputs": [
    {
     "data": {
      "text/plain": [
       "['Good muffins cost $3.88\\nin New York.  Please buy me\\ntwo of them.',\n",
       " 'Thanks.']"
      ]
     },
     "execution_count": 7,
     "metadata": {},
     "output_type": "execute_result"
    }
   ],
   "source": [
    "# Uses '\\s*\\n\\s*\\n\\s*':\n",
    "BlanklineTokenizer().tokenize(s) "
   ]
  },
  {
   "cell_type": "code",
   "execution_count": 8,
   "id": "868bec5e",
   "metadata": {},
   "outputs": [],
   "source": [
    "from nltk.tokenize import regexp_tokenize, wordpunct_tokenize, blankline_tokenize"
   ]
  },
  {
   "cell_type": "code",
   "execution_count": 9,
   "id": "bf6ada17",
   "metadata": {},
   "outputs": [
    {
     "data": {
      "text/plain": [
       "['Good',\n",
       " 'muffins',\n",
       " 'cost',\n",
       " '$3.88',\n",
       " 'in',\n",
       " 'New',\n",
       " 'York',\n",
       " '.',\n",
       " 'Please',\n",
       " 'buy',\n",
       " 'me',\n",
       " 'two',\n",
       " 'of',\n",
       " 'them',\n",
       " '.',\n",
       " 'Thanks',\n",
       " '.']"
      ]
     },
     "execution_count": 9,
     "metadata": {},
     "output_type": "execute_result"
    }
   ],
   "source": [
    "regexp_tokenize(s, pattern=r'\\w+|\\$[\\d\\.]+|\\S+')"
   ]
  },
  {
   "cell_type": "code",
   "execution_count": 10,
   "id": "6f09d336",
   "metadata": {},
   "outputs": [
    {
     "data": {
      "text/plain": [
       "['Good',\n",
       " 'muffins',\n",
       " 'cost',\n",
       " '$',\n",
       " '3',\n",
       " '.',\n",
       " '88',\n",
       " 'in',\n",
       " 'New',\n",
       " 'York',\n",
       " '.',\n",
       " 'Please',\n",
       " 'buy',\n",
       " 'me',\n",
       " 'two',\n",
       " 'of',\n",
       " 'them',\n",
       " '.',\n",
       " 'Thanks',\n",
       " '.']"
      ]
     },
     "execution_count": 10,
     "metadata": {},
     "output_type": "execute_result"
    }
   ],
   "source": [
    "wordpunct_tokenize(s) "
   ]
  },
  {
   "cell_type": "code",
   "execution_count": 11,
   "id": "f242ea32",
   "metadata": {},
   "outputs": [
    {
     "data": {
      "text/plain": [
       "['Good muffins cost $3.88\\nin New York.  Please buy me\\ntwo of them.',\n",
       " 'Thanks.']"
      ]
     },
     "execution_count": 11,
     "metadata": {},
     "output_type": "execute_result"
    }
   ],
   "source": [
    "blankline_tokenize(s)"
   ]
  },
  {
   "cell_type": "code",
   "execution_count": 12,
   "id": "674c6f18",
   "metadata": {},
   "outputs": [],
   "source": [
    "tokenizer = RegexpTokenizer(r'\\w+|\\$[\\d\\.]+|\\S+')"
   ]
  },
  {
   "cell_type": "code",
   "execution_count": 13,
   "id": "c1c44682",
   "metadata": {},
   "outputs": [],
   "source": [
    "from nltk.tokenize import WhitespaceTokenizer"
   ]
  },
  {
   "cell_type": "code",
   "execution_count": 14,
   "id": "056af13b",
   "metadata": {},
   "outputs": [
    {
     "data": {
      "text/plain": [
       "['Good',\n",
       " 'muffins',\n",
       " 'cost',\n",
       " '$3.88',\n",
       " 'in',\n",
       " 'New',\n",
       " 'York.',\n",
       " 'Please',\n",
       " 'buy',\n",
       " 'me',\n",
       " 'two',\n",
       " 'of',\n",
       " 'them.',\n",
       " 'Thanks.']"
      ]
     },
     "execution_count": 14,
     "metadata": {},
     "output_type": "execute_result"
    }
   ],
   "source": [
    "s = \"Good muffins cost $3.88\\nin New York.  Please buy me\\ntwo of them.\\n\\nThanks.\"\n",
    "WhitespaceTokenizer().tokenize(s) "
   ]
  },
  {
   "cell_type": "code",
   "execution_count": 15,
   "id": "5bbe5073",
   "metadata": {},
   "outputs": [],
   "source": [
    "from nltk.tokenize import WordPunctTokenizer"
   ]
  },
  {
   "cell_type": "code",
   "execution_count": 16,
   "id": "40a712e5",
   "metadata": {},
   "outputs": [
    {
     "data": {
      "text/plain": [
       "['Good',\n",
       " 'muffins',\n",
       " 'cost',\n",
       " '$',\n",
       " '3',\n",
       " '.',\n",
       " '88',\n",
       " 'in',\n",
       " 'New',\n",
       " 'York',\n",
       " '.',\n",
       " 'Please',\n",
       " 'buy',\n",
       " 'me',\n",
       " 'two',\n",
       " 'of',\n",
       " 'them',\n",
       " '.',\n",
       " 'Thanks',\n",
       " '.']"
      ]
     },
     "execution_count": 16,
     "metadata": {},
     "output_type": "execute_result"
    }
   ],
   "source": [
    "s = \"Good muffins cost $3.88\\nin New York.  Please buy me\\ntwo of them.\\n\\nThanks.\"\n",
    "WordPunctTokenizer().tokenize(s) "
   ]
  },
  {
   "cell_type": "markdown",
   "id": "137d7d3c",
   "metadata": {},
   "source": [
    "### Stemming\n",
    "\n",
    "There is one root word, but there are many variations of the same words. For example, the root word is “eat” and it’s variations are “eats, eating, eaten and like so”. \n",
    "\n",
    "In the same way, with the help of Stemming in Python, we can find the root word of any variations."
   ]
  },
  {
   "cell_type": "code",
   "execution_count": 17,
   "id": "d8349d3e",
   "metadata": {
    "scrolled": true
   },
   "outputs": [
    {
     "name": "stdout",
     "output_type": "stream",
     "text": [
      "wait\n",
      "wait\n",
      "wait\n",
      "wait\n"
     ]
    }
   ],
   "source": [
    "# gives the root word\n",
    "# PorterStemmer is an algorithm for stemming words\n",
    "\n",
    "from nltk.stem import PorterStemmer\n",
    "e_words= [\"wait\", \"waiting\", \"waited\", \"waits\"]\n",
    "ps =PorterStemmer()\n",
    "for w in e_words:\n",
    "    rootWord=ps.stem(w)\n",
    "    print(rootWord)"
   ]
  },
  {
   "cell_type": "code",
   "execution_count": 18,
   "id": "72e29152",
   "metadata": {},
   "outputs": [
    {
     "name": "stdout",
     "output_type": "stream",
     "text": [
      "hello\n",
      "guru99\n",
      ",\n",
      "you\n",
      "have\n",
      "to\n",
      "build\n",
      "a\n",
      "veri\n",
      "good\n",
      "site\n",
      "and\n",
      "i\n",
      "love\n",
      "visit\n",
      "your\n",
      "site\n",
      ".\n"
     ]
    }
   ],
   "source": [
    "from nltk.stem import PorterStemmer\n",
    "from nltk.tokenize import sent_tokenize, word_tokenize\n",
    "\n",
    "sentence=\"Hello Guru99, You have to build a very good site and I love visiting your site.\"\n",
    "\n",
    "# tokenize the sentence\n",
    "words = word_tokenize(sentence)\n",
    "\n",
    "# calling the PorterStemmer algorithm\n",
    "ps = PorterStemmer()\n",
    "\n",
    "# printing the root words in the sentence \n",
    "for w in words:\n",
    "\trootWord=ps.stem(w)\n",
    "\tprint(rootWord)"
   ]
  },
  {
   "cell_type": "markdown",
   "id": "bd1bb9c4",
   "metadata": {},
   "source": [
    "### Lemmatization"
   ]
  },
  {
   "cell_type": "code",
   "execution_count": 19,
   "id": "0feb78e4",
   "metadata": {},
   "outputs": [
    {
     "name": "stdout",
     "output_type": "stream",
     "text": [
      "Stemming for studies is studi\n",
      "Stemming for studying is studi\n",
      "Stemming for cries is cri\n",
      "Stemming for cry is cri\n"
     ]
    }
   ],
   "source": [
    "import nltk\n",
    "from nltk.stem.porter import PorterStemmer\n",
    "porter_stemmer  = PorterStemmer()\n",
    "text = \"studies studying cries cry\"\n",
    "\n",
    "# tokenize the string\n",
    "tokenization = nltk.word_tokenize(text)\n",
    "\n",
    "\n",
    "for w in tokenization:\n",
    "    print(\"Stemming for {} is {}\".format(w,porter_stemmer.stem(w)))  "
   ]
  },
  {
   "cell_type": "code",
   "execution_count": 20,
   "id": "40e5cfb3",
   "metadata": {},
   "outputs": [
    {
     "name": "stdout",
     "output_type": "stream",
     "text": [
      "Lemma for studies is study\n",
      "Lemma for studying is studying\n",
      "Lemma for cries is cry\n",
      "Lemma for cry is cry\n"
     ]
    }
   ],
   "source": [
    "# contextual analysis \n",
    "\n",
    "import nltk\n",
    "from nltk.stem import \tWordNetLemmatizer\n",
    "wordnet_lemmatizer = WordNetLemmatizer()\n",
    "text = \"studies studying cries cry\"\n",
    "tokenization = nltk.word_tokenize(text)\n",
    "for w in tokenization:\n",
    "    print(\"Lemma for {} is {}\".format(w, wordnet_lemmatizer.lemmatize(w)))  "
   ]
  },
  {
   "cell_type": "code",
   "execution_count": 21,
   "id": "45f9e2a2",
   "metadata": {
    "scrolled": true
   },
   "outputs": [
    {
     "name": "stdout",
     "output_type": "stream",
     "text": [
      "guru99 => guru99\n",
      "is => be\n",
      "a => a\n",
      "totally => totally\n",
      "new => new\n",
      "kind => kind\n",
      "of => of\n",
      "learning => learn\n",
      "experience => experience\n",
      ". => .\n"
     ]
    }
   ],
   "source": [
    "from nltk.corpus import wordnet as wn\n",
    "from nltk.stem.wordnet import WordNetLemmatizer\n",
    "from nltk import word_tokenize, pos_tag\n",
    "from collections import defaultdict\n",
    "tag_map = defaultdict(lambda : wn.NOUN)\n",
    "tag_map['J'] = wn.ADJ\n",
    "tag_map['V'] = wn.VERB\n",
    "tag_map['R'] = wn.ADV\n",
    "\n",
    "text = \"guru99 is a totally new kind of learning experience.\"\n",
    "tokens = word_tokenize(text)\n",
    "lemma_function = WordNetLemmatizer()\n",
    "for token, tag in pos_tag(tokens):\n",
    "    lemma = lemma_function.lemmatize(token, tag_map[tag[0]])\n",
    "    print(token, \"=>\", lemma)"
   ]
  },
  {
   "cell_type": "code",
   "execution_count": 22,
   "id": "98c31a6d",
   "metadata": {},
   "outputs": [
    {
     "name": "stdout",
     "output_type": "stream",
     "text": [
      "['IT companies', '10.0%.', 'IT company', '7.2%', '.']\n"
     ]
    }
   ],
   "source": [
    "import re\n",
    "from nltk.tokenize import RegexpTokenizer\n",
    "\n",
    "s = \"We can expect the profitability of IT companies can increase by 10.0%. The profit of IT company TCS increased by 7.2% this year.\"\n",
    "tokenizer = RegexpTokenizer(r'\\bIT\\s+compan(?:y|ies)|[\\d\\.%]+')\n",
    "tokens = tokenizer.tokenize(s)\n",
    "print(tokens)"
   ]
  },
  {
   "cell_type": "code",
   "execution_count": 23,
   "id": "25a4c99c",
   "metadata": {},
   "outputs": [
    {
     "data": {
      "text/plain": [
       "list"
      ]
     },
     "execution_count": 23,
     "metadata": {},
     "output_type": "execute_result"
    }
   ],
   "source": [
    "type(tokens)"
   ]
  },
  {
   "cell_type": "code",
   "execution_count": 24,
   "id": "03cc351d",
   "metadata": {},
   "outputs": [
    {
     "name": "stdout",
     "output_type": "stream",
     "text": [
      "['abcABC12456A1B2C3D5']\n"
     ]
    }
   ],
   "source": [
    "from nltk.tokenize import RegexpTokenizer\n",
    "pattern = r'[a-zA-Z0-9]+'\n",
    "tokenizer = RegexpTokenizer(pattern)\n",
    "input_str = \"abcABC12456A1B2C3D5\"\n",
    "alphanumeric_values = tokenizer.tokenize(input_str)\n",
    "print(alphanumeric_values)"
   ]
  },
  {
   "cell_type": "code",
   "execution_count": 25,
   "id": "3683c114",
   "metadata": {},
   "outputs": [
    {
     "name": "stdout",
     "output_type": "stream",
     "text": [
      "The text contains business-related content.\n"
     ]
    }
   ],
   "source": [
    "import requests\n",
    "from bs4 import BeautifulSoup\n",
    "import re\n",
    "url = 'https://www.freshbooks.com/en-au/hub/other/business-vs-company'\n",
    "response = requests.get(url)\n",
    "if response.status_code == 200:\n",
    "    soup = BeautifulSoup(response.content, 'html.parser')\n",
    "    text = soup.get_text()\n",
    "    business_pattern = r'\\b(business|enterprise|company|industry)\\b'\n",
    "    if re.search(business_pattern, text, re.IGNORECASE):\n",
    "        print(\"The text contains business-related content.\")\n",
    "    else:\n",
    "        print(\"The text does not contain business-related content.\")\n",
    "else:\n",
    "    print(\"Failed to retrieve the webpage.\")"
   ]
  },
  {
   "cell_type": "code",
   "execution_count": 26,
   "id": "ceeb0fd4",
   "metadata": {},
   "outputs": [
    {
     "name": "stdout",
     "output_type": "stream",
     "text": [
      "\n",
      "\n",
      "\n",
      "\n",
      "\n",
      "\n",
      "\n",
      "Business Vs Company: What’s the Difference?\n",
      "\n",
      "\n",
      "\n",
      "\n",
      "\n",
      "\n",
      "\n",
      "\n",
      "\n",
      "\n",
      "\n",
      "\n",
      "\n",
      "\n",
      "\n",
      "\n",
      "\n",
      "\n",
      "\n",
      "\n",
      "\n",
      "\n",
      "\n",
      "\n",
      "\n",
      "\n",
      "\n",
      "\n",
      "\n",
      "\n",
      "\n",
      "\n",
      "\n",
      "\n",
      "\n",
      " \n",
      "\n",
      "\n",
      "\n",
      "\n",
      "\n",
      "\n",
      "\n",
      "×\n",
      "\n",
      " \n",
      "\n",
      "FreshBooks\n",
      "Official App\n",
      "Free - Google Play\n",
      "\n",
      "\n",
      "Get it\n",
      "\n",
      "\n",
      "\n",
      " \n",
      "\n",
      "\n",
      "\n",
      "Fresh Year. Fresher Books. 🥳 Get 50% Off for 3 Months. BUY NOW & SAVE\n",
      "\n",
      "\n",
      "\t\t\t\t📣 Only \n",
      " Left to Get 50% Off for 3 Months BUY NOW & SAVE \n",
      "\n",
      "\n",
      "50% Off for 3 Months  Buy Now & Save\n",
      "\n",
      "\n",
      "\n",
      "\n",
      "\n",
      "\n",
      "\n",
      "\t\t\t\tYou're currently on our Australian site. Select your regional site here:\t\t\t\n",
      "\n",
      "\n",
      "\n",
      "\n",
      "Select your region\n",
      "Australia\n",
      "Canada\n",
      "European Union\n",
      "Germany\n",
      "Mexico\n",
      "New Zealand\n",
      "Singapore\n",
      "South Africa\n",
      "United Kingdom\n",
      "United States\n",
      "\n",
      "\n",
      "\n",
      "\n",
      "\n",
      "×\n",
      "\n",
      "\n",
      "\n",
      "\n",
      "\n",
      "\n",
      "\n",
      "Back\n",
      "\n",
      " \n",
      "\n",
      "Try It Free\n",
      "Login\n",
      "\n",
      "  \n",
      "\n",
      "\n",
      "\n",
      "\n",
      "Features Bill & Get PaidInvoicingWow clients with professional invoices that take seconds to create\n",
      "PaymentsQuick and easy online, recurring, and invoice-free payment options\n",
      "Time TrackingAutomated, to accurately track time and easily log billable hours\n",
      "\n",
      "Accounting & TaxesAccountingReports and tools to track money in and out, so you know where you stand\n",
      "Expenses & ReceiptsEasily log expenses and receipts to ensure your books are always tax-time ready\n",
      "ReportsTax time and business health reports keep you informed and tax-time ready\n",
      "\n",
      "Client CommunicationProjectsTrack project status and collaborate with clients and team members\n",
      "ProposalsOrganized and professional, helping you stand out and win new clients\n",
      "EstimatesSet clear expectations with clients and organize your plans for each project\n",
      "ClientsClient management made easy, with client info all in one place\n",
      "\n",
      "Business AppsAppStoreFreshBooks integrates with over 100 partners to help you simplify your workflows\n",
      "iOS & Android AppsSend invoices, track time, manage payments, and more…from anywhere.\n",
      "\n",
      "\n",
      "Who It’s For Business Size Freelancers\n",
      "Self-Employed Professionals\n",
      "Businesses With Employees\n",
      "Businesses With Contractors\n",
      "\n",
      "Accountants Accounting Partner Program\n",
      "Collaborative Accounting™\n",
      "Accountant Hub\n",
      "\n",
      "\n",
      "Resources Learning Blog\n",
      "Glossary\n",
      "Hub\n",
      "Reports Library\n",
      "Podcast\n",
      "\n",
      "Compare FreshBooks vs QuickBooks\n",
      "FreshBooks vs Xero\n",
      "\n",
      "Tools Free Invoice Generator\n",
      "Invoice Template\n",
      "Accounting Templates\n",
      "Business Name Generator\n",
      "\n",
      "Support Help Center\n",
      "\n",
      "Partners Partners\n",
      "\n",
      "Calculators Business Loan Calculator\n",
      "Markup Calculator\n",
      "\n",
      "\n",
      "Pricing\n",
      " \n",
      "\n",
      "Help\n",
      "Call Sales: +61 (1800) 595452\n",
      "\n",
      "\n",
      "Try It Free\n",
      "Login\n",
      "\n",
      "\n",
      "Login\n",
      "Try it Free\n",
      "\n",
      "\n",
      "\n",
      "\n",
      "\n",
      "\n",
      "\n",
      " \n",
      "\n",
      "Features Bill & Get PaidInvoicingWow clients with professional invoices that take seconds to create\n",
      "PaymentsQuick and easy online, recurring, and invoice-free payment options\n",
      "Time TrackingAutomated, to accurately track time and easily log billable hours\n",
      "\n",
      "Accounting & TaxesAccountingReports and tools to track money in and out, so you know where you stand\n",
      "Expenses & ReceiptsEasily log expenses and receipts to ensure your books are always tax-time ready\n",
      "ReportsTax time and business health reports keep you informed and tax-time ready\n",
      "\n",
      "Client CommunicationProjectsTrack project status and collaborate with clients and team members\n",
      "ProposalsOrganized and professional, helping you stand out and win new clients\n",
      "EstimatesSet clear expectations with clients and organize your plans for each project\n",
      "ClientsClient management made easy, with client info all in one place\n",
      "\n",
      "Business AppsAppStoreFreshBooks integrates with over 100 partners to help you simplify your workflows\n",
      "iOS & Android AppsSend invoices, track time, manage payments, and more…from anywhere.\n",
      "\n",
      "\n",
      "Who It’s For Business Size Freelancers\n",
      "Self-Employed Professionals\n",
      "Businesses With Employees\n",
      "Businesses With Contractors\n",
      "\n",
      "Accountants Accounting Partner Program\n",
      "Collaborative Accounting™\n",
      "Accountant Hub\n",
      "\n",
      "\n",
      "Resources Learning Blog\n",
      "Glossary\n",
      "Hub\n",
      "Reports Library\n",
      "Podcast\n",
      "\n",
      "Compare FreshBooks vs QuickBooks\n",
      "FreshBooks vs Xero\n",
      "\n",
      "Tools Free Invoice Generator\n",
      "Invoice Template\n",
      "Accounting Templates\n",
      "Business Name Generator\n",
      "\n",
      "Support Help Center\n",
      "\n",
      "Partners Partners\n",
      "\n",
      "Calculators Business Loan Calculator\n",
      "Markup Calculator\n",
      "\n",
      "\n",
      "Pricing\n",
      " \n",
      "\n",
      "Help\n",
      "Call Sales: +61 (1800) 595452\n",
      "\n",
      "Login\n",
      "Try It Free\n",
      "\n",
      "Try it Free\n",
      "Login\n",
      "\n",
      "\n",
      "\n",
      "\n",
      "\n",
      "\n",
      "\n",
      "\n",
      "\n",
      "\n",
      "\n",
      "\n",
      "All Articles\n",
      "\n",
      "\n",
      "Accounting\n",
      "\n",
      "\n",
      "Taxes\n",
      "\n",
      "\n",
      "Startup\n",
      "\n",
      "\n",
      "Estimates\n",
      "\n",
      "\n",
      "Productivity\n",
      "\n",
      "\n",
      "Expenses\n",
      "\n",
      "\n",
      "Other\n",
      "\n",
      "\n",
      "Invoicing\n",
      "\n",
      "\n",
      "Payments\n",
      "\n",
      "\n",
      "Marketing\n",
      "\n",
      "\n",
      "\n",
      "\n",
      "\n",
      "\n",
      "\n",
      "\n",
      "Resources for Your Growing Business\n",
      "\n",
      "\n",
      "Sign Me Up\n",
      "\n",
      "\n",
      "\n",
      "\n",
      " \n",
      "\n",
      "\n",
      "\n",
      "\n",
      "\n",
      "\n",
      "\n",
      "Resources for YourGrowing Business\n",
      "\n",
      "\n",
      "Sign Me Up\n",
      "\n",
      "\n",
      "\n",
      "\n",
      " \n",
      "\n",
      "\n",
      "\n",
      "\t\t\t\t9 Min. Read\t\t\t\n",
      "\n",
      "Business Vs Company: What’s the Difference?\n",
      "\n",
      "\n",
      "Hub\n",
      "Other\n",
      "Business Vs Company: What’s the Difference?\n",
      "\n",
      "\n",
      "December 6, 2021\n",
      "\n",
      "Have you ever been in a situation where someone calls themselves a company when they are actually a business or vice versa? In fact, there is a distinct difference between the two. While most people seem to use them interchangeably, it’s important to understand the difference. It will help you avoid confusion when dealing with others. It will also help you understand the facts better.\n",
      "Here’s What We’ll Cover:\n",
      "What Is a Business?\n",
      "Business Vs Company – The Differences\n",
      "Things to Do When Starting a Business\n",
      "Does a Company Need a Business Name?\n",
      "Working for a Business Vs a Company\n",
      "Key Takeaways\n",
      "What Is a Business?\n",
      "A business is a company, organization, or undertaking that trades in goods, services, or both to make a profit. The legal definition of a business varies by jurisdiction. Any lawful enterprise carried out to make money is called a business. \n",
      "\n",
      "What Is a Company?\n",
      "A company is an association or collection of individuals. These could be natural persons, corporate entities, or government bodies that operate under a particular legal charter. It is usually formed for the purpose of carrying on a business. Companies are the most legal entities created to run a business. These include corporations, limited liability companies (LLCs), limited liability partnership, and sole traders.\n",
      "Business Vs Company – The Differences\n",
      "Large companies are often associated with huge profits, large salaries, and high-profile brand names. Smaller businesses also provide many benefits to the people who work there. Small business owners enjoy running their own small businesses. They also receive enough profit from their business. \n",
      "It’s important to understand that a business is usually much smaller than a company. A business focuses on one specific industry or market. For example, your typical restaurant will be a business and not a company. Even if it has many locations, it still only serves the food industry.\n",
      "A Company Offers Wide Range of Services Than a Business\n",
      "On the other hand, larger companies like Wal-Mart and Coca-Cola are examples of companies. They offer a wide range of different products and services across many industries. These companies may have locations spread out all over the world. Their business model is built on offering so much more than one product or service to the public.\n",
      "A Company Focuses on Multiple Markets\n",
      "Since a company is most often larger than a business, it can also focus on many markets and industries. For example, Google is a company because they offer its services across several different markets and industries. They have partnerships with the entertainment industry through YouTube and they offer products for buy through Google Shopping Express or Google Play.\n",
      "A Company Can Be More Dynamic Than a Business \n",
      "Although businesses can be rather static in most cases, there are some cases where they’re actually more dynamic than companies. For example, your typical restaurant will often be a business and it will usually not change much over time due to its industry or market. But, a company like Google is more dynamic. It changes and adjusts its business model given the changing technology industry. In fact, many companies have been forced to close their doors due to how the tech industry tends to change and evolve over time. This means that businesses must work hard to keep up with all of the changes in their respective industries.\n",
      "Difference Between Individual & Business Entity\n",
      "The main difference between individual and business entities is that if you go by the law, an individual can’t exist without a business entity. Banks and other financial institutions may not open accounts in the name of an individual. If they do, accounts with such titles will be marked “for commerce only.”\n",
      "A company will often use a legal entity like a corporation to protect itself. While a business does not always use a legal entity. As mentioned previously, companies like Google will often use specialized legal entities like corporations in order to protect themselves from litigation and other possible lawsuits. Even though there are many benefits to forming a Limited Liability Company or LLP, the biggest benefit is the protection against lawsuits.\n",
      "A business is not an actual legal entity, even though it may operate with a DBA or trade name. The type of business can make a difference. For this reason, larger businesses will often form their own LLC or LLP to gain these same protections that corporations enjoy. They can rest easy at night knowing they are protected from any liabilities that may come their way.\n",
      "Types of a Business \n",
      "There are different types of businesses such as:\n",
      "Public BusinessPrivate BusinessClose Corporation\n",
      "Anyone can trade public businesses and can buy or sell shares on a stock market. Private businesses are the opposite of public businesses. No one can buy or sell their shares other than company employees or shareholders. Close corporations are part way between being a public business and being a private one.\n",
      "Things to Do When Starting a Business \n",
      "Plan \n",
      "When starting a business, the first thing to do is to get a business plan. This business structure explains the mission of a company. For example, who is its target audience, and how it will make money? This business idea or plan is also important to locate funding for the company from investors or lenders.\n",
      "Budget\n",
      "The second thing to do for starting business activities is to create a budget. You need to understand how much it’s going to cost you. It is important because the initial investment will often determine your success. This is often one of the most difficult things for people to do. Because it requires an understanding of how much money you’re willing to invest into this business.\n",
      "Short-Term & Long-Term Targets to Be Achieved\n",
      "A business can be very demanding. You must understand all the different roles every single person will have to play. It will set the goals and targets for everything to work out as intended. It’s also important that you understand what it is that you have to achieve on a daily basis. You should also set those goals and tasks that you will achieve over time. Also, you should set the goals for professional services to customers to be provided. \n",
      "Planning Your Marketing Strategy\n",
      " The next thing to do when starting a business is to plan your marketing strategy. Your target market or demographic must know who you are. What type of services or products you’re offering. In other words, you want to gain brand recognition and it’s something that will be to your advantage.\n",
      "Finding the Right Business Location\n",
      "The final thing that you should do when starting a business is to find a location for your operations. This is important because the city or town you choose will determine how much money you can spend in the long run.\n",
      "Work & Dedication\n",
      "There is no doubt that businesses are hard to manage. Because maintaining a business requires a lot of work and dedication. But when they’re done correctly, the results can be very rewarding indeed. They may not make you rich overnight. But once everything is in order you can sell your business for a very large sum of money.\n",
      "\n",
      "Does a Company Need a Business Name?\n",
      "A company does need a business name because it is the first document that will be filed to start up your company. It also upholds your brand identity whether you are just starting or have been working for years. So, a company needs a business name. So, it can file documents, uphold its brand identity, and secure funding from investors and lenders.\n",
      "The Cost of a Business Name\n",
      "The cost of a business name can be expensive or cheaper depending on if you want a website or not. If you don’t have a website, your business name will only cost $1-$10 per year. If you want to secure a website for the company it will run from $5 -$20 per year for the registration.\n",
      "Working for a Business Vs a Company\n",
      "Working for a company is different than working for a business. A business can be run by only one person. It requires that you do all the work for it to run smoothly or else it will fail fast. A company on the other hand needs more than just one person to get involved in day-to-day tasks.\n",
      "Key Takeaways\n",
      "In conclusion, a business is usually smaller than a company. And it focuses on one specific industry. A company is often larger than a business and focuses on many markets. It’s important to understand that companies are more likely to engage in mergers and acquisitions. When they feel it is necessary to strengthen their own workforce, they do this. This means that a business is less likely to enter into a merger or acquisition due to its lack of resources and workforce. For example, let’s imagine you own an oil company and you decide to merge with another oil company. So that you can combine your assets and labor force together so each can help the other expand as necessary. This is called a merger.\n",
      "On the other hand, imagine you own a small coffee shop and you decide to acquire another coffee shop. Because of how successful it has become in recent months. This would be known as an acquisition because there is no actual merger involved since two companies are not actually combining into one new company.\n",
      "In some cases, a business can have more than one owner or investor. In fact, many businesses will use the equity crowdfunding method. So they can gain the necessary funds they need to grow. On the other hand, most companies are owned by one person or entity who has complete control over them. This means the investor of a company will have more control over his or her respective business.\n",
      "If you want more information like this, check out our resource hub!\n",
      "\n",
      "RELATED ARTICLES\n",
      "\n",
      "\n",
      "\n",
      "What Is a Purchase Journal? Definition, Format & Example\n",
      "\n",
      "\n",
      "Difference Between Activity Based Costing Vs Traditional Costing\n",
      "\n",
      "\n",
      "What Is IAS (Instalment Activity Statements)\n",
      "\n",
      "\n",
      "Competitive Pricing Strategy: Definition, Examples, Pros & Cons\n",
      "\n",
      "\n",
      "What Is a Bill of Exchange?\n",
      "\n",
      "\n",
      "Stagflation Definition, Examples & Causes\n",
      "\n",
      "\n",
      "\n",
      "\n",
      "\n",
      "\n",
      "\n",
      "\t    Save Time Billing and Get Paid 2x Faster With FreshBooks\n",
      "\t\n",
      "\n",
      "Try FreshBooks Free\n",
      "Contact Sales\n",
      "\n",
      "\n",
      "\n",
      "\n",
      "\n",
      "Want More Helpful Articles About Running a Business?\n",
      "Get more great content in your Inbox.\n",
      "\n",
      "\n",
      "\n",
      "By subscribing, you agree to receive communications from FreshBooks and acknowledge and agree to FreshBook’s Privacy Policy. You can unsubscribe at any time by contacting us at help@freshbooks.com.\n",
      "\n",
      "\n",
      "\t\t\t\tClose\n",
      "\t\t\t\n",
      "\n",
      "\n",
      "\n",
      "\n",
      " \n",
      "\n",
      "\n",
      "\n",
      "\n",
      "\n",
      " \n",
      "\n",
      "Company\n",
      "\n",
      "About Us\n",
      "Careers\n",
      "Our Story\n",
      "Contact\n",
      "Diversity & Inclusivity\n",
      "Press Center\n",
      "\n",
      "\n",
      "Features\n",
      "\n",
      "All FreshBooks Features\n",
      "AppStore\n",
      "Expenses & Receipts\n",
      "Estimates\n",
      "Invoicing\n",
      "Mobile\n",
      "Payments\n",
      "Projects\n",
      "Reports\n",
      "Time Tracking\n",
      "\n",
      "\n",
      "Who It’s For\n",
      "\n",
      "Freelancers\n",
      "Businesses With Contractors\n",
      "Businesses With Employees\n",
      "Self-Employed Professionals\n",
      "Accountants\n",
      "\n",
      "\n",
      "Partners\n",
      "\n",
      "Developers\n",
      "Education\n",
      "Referral Program\n",
      "Partners\n",
      "Affiliate Program\n",
      "Apps\n",
      "\n",
      "\n",
      "Helpful Links\n",
      "\n",
      "Accounting Templates\n",
      "Invoice Template\n",
      "Login\n",
      "Resource Hub\n",
      "Sign Up\n",
      "Support\n",
      "Tools\n",
      "Accounting Software\n",
      "Blog\n",
      "Quickbooks Alternative\n",
      "Sitemap\n",
      "\n",
      "\n",
      "Policies\n",
      "\n",
      "Accessibility\n",
      "Privacy Policy\n",
      "Security Safeguards\n",
      "Terms of Service\n",
      "\n",
      "\n",
      " \n",
      "\n",
      "\n",
      "\n",
      "\n",
      "\n",
      "\n",
      "\n",
      "\t\t\t\tAustralia\t\t\t\n",
      "\n",
      "\n",
      "\n",
      "\n",
      "\t\t\t\t\tAustralia\t\t\t\t\n",
      "\n",
      "\n",
      "\t\t\t\t\tCanada\t\t\t\t\n",
      "\n",
      "\n",
      "\t\t\t\t\tEuropean Union\t\t\t\t\n",
      "\n",
      "\n",
      "\t\t\t\t\tGermany\t\t\t\t\n",
      "\n",
      "\n",
      "\t\t\t\t\tMexico\t\t\t\t\n",
      "\n",
      "\n",
      "\t\t\t\t\tNew Zealand\t\t\t\t\n",
      "\n",
      "\n",
      "\t\t\t\t\tSingapore\t\t\t\t\n",
      "\n",
      "\n",
      "\t\t\t\t\tSouth Africa\t\t\t\t\n",
      "\n",
      "\n",
      "\t\t\t\t\tUnited Kingdom\t\t\t\t\n",
      "\n",
      "\n",
      "\t\t\t\t\tUnited States\t\t\t\t\n",
      "\n",
      "\n",
      "\n",
      "\t\t\t\tEnglish\t\t\t\n",
      "\n",
      "\n",
      "\n",
      "\t\t\t\t\t\t\tEnglish\t\t\t\t\t\t\n",
      "\n",
      "\t\t\t\t\t\t\tEnglish\t\t\t\t\t\t\n",
      "\n",
      "\t\t\t\t\t\t\tEnglish\t\t\t\t\t\t\n",
      "\n",
      "\t\t\t\t\t\t\tEnglish\t\t\t\t\t\t\n",
      "\n",
      "\t\t\t\t\t\t\tEnglish\t\t\t\t\t\t\n",
      "\n",
      "\t\t\t\t\t\t\tEnglish\t\t\t\t\t\t\n",
      "\n",
      "\t\t\t\t\t\t\tEnglish\t\t\t\t\t\t\n",
      "\n",
      "\t\t\t\t\t\t\tEnglish\t\t\t\t\t\t\n",
      "\n",
      "\n",
      "\n",
      "\n",
      "\n",
      "\n",
      "\n",
      "\n",
      " \n",
      "\n",
      " \n",
      "\n",
      "\n",
      "\n",
      "\n",
      " \n",
      "\n",
      " \n",
      "\n",
      " \n",
      "\n",
      " \n",
      "\n",
      "\n",
      "\n",
      "\n",
      "\n",
      "\n",
      "\n",
      "\n",
      "\t\t\t© 2000-2024 FreshBooks\t\t\n",
      "\n",
      "\n",
      "\n",
      " \n",
      "\n",
      "\n",
      "\n",
      "\n",
      "\n",
      "\n",
      "👋 Welcome to FreshBooks\n",
      "\n",
      "\t\t\t\t\t\t\t\tTo see our product designed specifically for your country, please visit the United States site.\t\t\t\n",
      "\n",
      "\t\t\t\tVisit FreshBooks United States\n",
      "\n",
      "\n",
      "\t\t\t\tVisit the AU website\t\t\t\n",
      "\n",
      "\n",
      "\n",
      "\n",
      "\n",
      "\n",
      "\n",
      "\n",
      "\n",
      "\n",
      "\n"
     ]
    }
   ],
   "source": [
    "print(text)"
   ]
  },
  {
   "cell_type": "code",
   "execution_count": 27,
   "id": "c578db0d",
   "metadata": {},
   "outputs": [],
   "source": [
    "from nltk.tokenize import RegexpTokenizer\n",
    "tokenizer = RegexpTokenizer(r'\\b(business|enterprise|company|industry)\\b')\n",
    "s = tokenizer.tokenize(text) "
   ]
  },
  {
   "cell_type": "code",
   "execution_count": 28,
   "id": "2abd80bc",
   "metadata": {},
   "outputs": [
    {
     "data": {
      "text/plain": [
       "16146"
      ]
     },
     "execution_count": 28,
     "metadata": {},
     "output_type": "execute_result"
    }
   ],
   "source": [
    "len(text)"
   ]
  },
  {
   "cell_type": "code",
   "execution_count": 29,
   "id": "c23749f0",
   "metadata": {
    "scrolled": true
   },
   "outputs": [
    {
     "data": {
      "text/plain": [
       "77"
      ]
     },
     "execution_count": 29,
     "metadata": {},
     "output_type": "execute_result"
    }
   ],
   "source": [
    "len(s)"
   ]
  },
  {
   "cell_type": "code",
   "execution_count": 30,
   "id": "024305d7",
   "metadata": {},
   "outputs": [
    {
     "name": "stdout",
     "output_type": "stream",
     "text": [
      "business\n",
      "business\n",
      "company\n",
      "business\n",
      "business\n",
      "company\n",
      "business\n",
      "enterprise\n",
      "business\n",
      "company\n",
      "business\n",
      "business\n",
      "business\n",
      "business\n",
      "business\n",
      "company\n",
      "business\n",
      "industry\n",
      "business\n",
      "company\n",
      "industry\n",
      "business\n",
      "company\n",
      "business\n",
      "company\n",
      "industry\n",
      "business\n",
      "industry\n",
      "company\n",
      "business\n",
      "industry\n",
      "industry\n",
      "business\n",
      "business\n",
      "company\n",
      "business\n",
      "business\n",
      "business\n",
      "company\n",
      "business\n",
      "business\n",
      "business\n",
      "business\n",
      "company\n",
      "business\n",
      "company\n",
      "business\n",
      "business\n",
      "business\n",
      "business\n",
      "business\n",
      "business\n",
      "business\n",
      "company\n",
      "business\n",
      "company\n",
      "company\n",
      "business\n",
      "business\n",
      "business\n",
      "company\n",
      "company\n",
      "business\n",
      "business\n",
      "company\n",
      "business\n",
      "company\n",
      "industry\n",
      "company\n",
      "business\n",
      "business\n",
      "company\n",
      "company\n",
      "company\n",
      "business\n",
      "company\n",
      "business\n"
     ]
    }
   ],
   "source": [
    "for words in s:\n",
    "    print (words)"
   ]
  },
  {
   "cell_type": "markdown",
   "id": "c325a555",
   "metadata": {},
   "source": [
    "By: Prajukta Dey \n",
    "\n",
    "Roll: 21052263"
   ]
  }
 ],
 "metadata": {
  "kernelspec": {
   "display_name": "Python 3 (ipykernel)",
   "language": "python",
   "name": "python3"
  },
  "language_info": {
   "codemirror_mode": {
    "name": "ipython",
    "version": 3
   },
   "file_extension": ".py",
   "mimetype": "text/x-python",
   "name": "python",
   "nbconvert_exporter": "python",
   "pygments_lexer": "ipython3",
   "version": "3.11.5"
  }
 },
 "nbformat": 4,
 "nbformat_minor": 5
}
