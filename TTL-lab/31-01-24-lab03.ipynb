{
 "cells": [
  {
   "cell_type": "markdown",
   "id": "4f0099d7",
   "metadata": {},
   "source": [
    "### Lab 03"
   ]
  },
  {
   "cell_type": "code",
   "execution_count": 2,
   "id": "068a31a4",
   "metadata": {},
   "outputs": [
    {
     "name": "stdout",
     "output_type": "stream",
     "text": [
      "P\n",
      "r\n",
      "a\n",
      "j\n",
      "u\n",
      "k\n",
      "t\n",
      "a\n"
     ]
    }
   ],
   "source": [
    "s = \"Prajukta\"\n",
    "for x in s:\n",
    "    print(x)"
   ]
  },
  {
   "cell_type": "code",
   "execution_count": 5,
   "id": "1b85b513",
   "metadata": {},
   "outputs": [
    {
     "name": "stdout",
     "output_type": "stream",
     "text": [
      "Enter a string: Prajukta\n",
      "The character present at  0 index is : P\n",
      "The character present at  1 index is : r\n",
      "The character present at  2 index is : a\n",
      "The character present at  3 index is : j\n",
      "The character present at  4 index is : u\n",
      "The character present at  5 index is : k\n",
      "The character present at  6 index is : t\n",
      "The character present at  7 index is : a\n"
     ]
    }
   ],
   "source": [
    "#to print chatacters present in string index wise\n",
    "s = input(\"Enter a string: \")\n",
    "i = 0\n",
    "for x in s:\n",
    "    print(\"The character present at \",i, \"index is :\", x)\n",
    "    i = i+1"
   ]
  },
  {
   "cell_type": "code",
   "execution_count": 6,
   "id": "eee2cad3",
   "metadata": {},
   "outputs": [
    {
     "name": "stdout",
     "output_type": "stream",
     "text": [
      "Hello\n",
      "Hello\n",
      "Hello\n",
      "Hello\n",
      "Hello\n",
      "Hello\n",
      "Hello\n",
      "Hello\n",
      "Hello\n",
      "Hello\n"
     ]
    }
   ],
   "source": [
    "#print hello 10 times\n",
    "s = \"Hello\"\n",
    "for i in range(0,10):\n",
    "    print(s)"
   ]
  },
  {
   "cell_type": "code",
   "execution_count": 7,
   "id": "3025f73d",
   "metadata": {},
   "outputs": [
    {
     "name": "stdout",
     "output_type": "stream",
     "text": [
      "Hello\n",
      "Hello\n",
      "Hello\n",
      "Hello\n",
      "Hello\n",
      "Hello\n",
      "Hello\n",
      "Hello\n",
      "Hello\n",
      "Hello\n"
     ]
    }
   ],
   "source": [
    "s = \"Hello\"\n",
    "for i in range(10):\n",
    "    print(s)"
   ]
  },
  {
   "cell_type": "code",
   "execution_count": 8,
   "id": "dfa88bf0",
   "metadata": {},
   "outputs": [
    {
     "name": "stdout",
     "output_type": "stream",
     "text": [
      "0\n",
      "1\n",
      "2\n",
      "3\n",
      "4\n",
      "5\n",
      "6\n",
      "7\n",
      "8\n",
      "9\n",
      "10\n"
     ]
    }
   ],
   "source": [
    "#display numbers from 0 to 10\n",
    "for i in range(0,11):\n",
    "    print(i)"
   ]
  },
  {
   "cell_type": "code",
   "execution_count": 9,
   "id": "83b22406",
   "metadata": {},
   "outputs": [
    {
     "name": "stdout",
     "output_type": "stream",
     "text": [
      "1\n",
      "3\n",
      "5\n",
      "7\n",
      "9\n",
      "11\n",
      "13\n",
      "15\n",
      "17\n",
      "19\n"
     ]
    }
   ],
   "source": [
    "#display odd numbers from 0-20\n",
    "for i in range(21):\n",
    "    if(i%2!=0):\n",
    "        print(i)"
   ]
  },
  {
   "cell_type": "code",
   "execution_count": 10,
   "id": "99ecd357",
   "metadata": {},
   "outputs": [
    {
     "name": "stdout",
     "output_type": "stream",
     "text": [
      "10\n",
      "9\n",
      "8\n",
      "7\n",
      "6\n",
      "5\n",
      "4\n",
      "3\n",
      "2\n",
      "1\n"
     ]
    }
   ],
   "source": [
    "#display numbers from 10 to 1 in descending order\n",
    "for i in range(10, 0,-1):\n",
    "    print(i)"
   ]
  },
  {
   "cell_type": "code",
   "execution_count": 3,
   "id": "c53c9bc8",
   "metadata": {},
   "outputs": [
    {
     "name": "stdout",
     "output_type": "stream",
     "text": [
      "Enter list: [1,2,3,4]\n",
      "The sum:  10\n"
     ]
    }
   ],
   "source": [
    "list = list = eval(input(\"Enter list: \"))\n",
    "sum = 0\n",
    "for x in list:\n",
    "    sum = sum +x\n",
    "print(\"The sum: \", sum)"
   ]
  },
  {
   "cell_type": "code",
   "execution_count": 4,
   "id": "3a40b2d1",
   "metadata": {},
   "outputs": [
    {
     "name": "stdout",
     "output_type": "stream",
     "text": [
      "1\n",
      "2\n",
      "3\n",
      "4\n",
      "5\n",
      "6\n",
      "7\n",
      "8\n",
      "9\n",
      "10\n"
     ]
    }
   ],
   "source": [
    "#while loop\n",
    "x=1\n",
    "while x <=10:\n",
    "    print(x)\n",
    "    x=x+1"
   ]
  },
  {
   "cell_type": "code",
   "execution_count": 5,
   "id": "23fdb361",
   "metadata": {},
   "outputs": [
    {
     "name": "stdout",
     "output_type": "stream",
     "text": [
      "Enter number:23\n",
      "The sum of first 23 numbers is : 276\n"
     ]
    }
   ],
   "source": [
    "n=int(input(\"Enter number:\"))\n",
    "sum=0\n",
    "i=1\n",
    "while i<=n:\n",
    "    sum=sum+i\n",
    "    i=i+1\n",
    "print(\"The sum of first\",n,\"numbers is :\",sum)"
   ]
  },
  {
   "cell_type": "code",
   "execution_count": 6,
   "id": "b32cc7c3",
   "metadata": {},
   "outputs": [
    {
     "name": "stdout",
     "output_type": "stream",
     "text": [
      "Enter Name:Sam\n",
      "Enter Name:Prajukta\n",
      "Thanks for confirmation\n"
     ]
    }
   ],
   "source": [
    "#enter name until Prajukta\n",
    "name=\"\"\n",
    "while name!=\"Prajukta\":\n",
    "    name=input(\"Enter Name:\")\n",
    "print(\"Thanks for confirmation!\")"
   ]
  },
  {
   "cell_type": "code",
   "execution_count": null,
   "id": "1e4723a4",
   "metadata": {},
   "outputs": [],
   "source": [
    "#infinite loops\n",
    "i = 1\n",
    "while True: # The body of this while loop keep on execuing because condition is alwa\n",
    "    print('Hello', i) # This program never going to terminates\n",
    "    i=i+1"
   ]
  },
  {
   "cell_type": "code",
   "execution_count": 2,
   "id": "4c99e74e",
   "metadata": {},
   "outputs": [
    {
     "name": "stdout",
     "output_type": "stream",
     "text": [
      "Hello\n",
      "Hello\n",
      "Hello\n",
      "Hello\n",
      "Hello\n",
      "Hello\n"
     ]
    }
   ],
   "source": [
    "#nested loops\n",
    "for i in range(3):\n",
    "    for j in range(2):\n",
    "        print('Hello')"
   ]
  },
  {
   "cell_type": "code",
   "execution_count": 3,
   "id": "35a76211",
   "metadata": {},
   "outputs": [
    {
     "name": "stdout",
     "output_type": "stream",
     "text": [
      "i = 0 j = 0\n",
      "i = 0 j = 1\n",
      "i = 0 j = 2\n",
      "i = 0 j = 3\n",
      "i = 1 j = 0\n",
      "i = 1 j = 1\n",
      "i = 1 j = 2\n",
      "i = 1 j = 3\n",
      "i = 2 j = 0\n",
      "i = 2 j = 1\n",
      "i = 2 j = 2\n",
      "i = 2 j = 3\n",
      "i = 3 j = 0\n",
      "i = 3 j = 1\n",
      "i = 3 j = 2\n",
      "i = 3 j = 3\n"
     ]
    }
   ],
   "source": [
    "for i in range(4):\n",
    "    for j in range(4):\n",
    "        #print(\"i=\",i,\" j=\",j)\n",
    "        print('i = {} j = {}'.format(i,j))"
   ]
  },
  {
   "cell_type": "code",
   "execution_count": 6,
   "id": "b84623fb",
   "metadata": {},
   "outputs": [
    {
     "name": "stdout",
     "output_type": "stream",
     "text": [
      "Enter number of rows:7\n",
      "* \n",
      "* * \n",
      "* * * \n",
      "* * * * \n",
      "* * * * * \n",
      "* * * * * * \n",
      "* * * * * * * \n"
     ]
    }
   ],
   "source": [
    "#pattern for right angled triangle\n",
    "n = int(input(\"Enter number of rows:\"))\n",
    "for i in range(1,n+1):\n",
    "    for j in range(1,i+1):\n",
    "        print(\"*\",end=\" \")\n",
    "    print()"
   ]
  },
  {
   "cell_type": "code",
   "execution_count": 7,
   "id": "00142d8c",
   "metadata": {},
   "outputs": [
    {
     "name": "stdout",
     "output_type": "stream",
     "text": [
      "Enter number of rows:7\n",
      "       * \n",
      "       * * \n",
      "       * * * \n",
      "       * * * * \n",
      "       * * * * * \n",
      "       * * * * * * \n",
      "       * * * * * * * \n"
     ]
    }
   ],
   "source": [
    "#pyramid pattern\n",
    "n = int(input(\"Enter number of rows:\"))\n",
    "for i in range(1,n+1):\n",
    "    print(\" \" * (n),end=\"\") # right angle triangle form\n",
    "    print(\"* \"*i)"
   ]
  },
  {
   "cell_type": "code",
   "execution_count": 8,
   "id": "f3e300b4",
   "metadata": {},
   "outputs": [
    {
     "name": "stdout",
     "output_type": "stream",
     "text": [
      "Enter number of rows:7\n",
      "      * \n",
      "     * * \n",
      "    * * * \n",
      "   * * * * \n",
      "  * * * * * \n",
      " * * * * * * \n",
      "* * * * * * * \n"
     ]
    }
   ],
   "source": [
    "n = int(input(\"Enter number of rows:\"))\n",
    "for i in range(1,n+1):\n",
    "    print(\" \" * (n-i),end=\"\") # equivalent triangle form\n",
    "    print(\"* \"*i)"
   ]
  },
  {
   "cell_type": "code",
   "execution_count": 10,
   "id": "952e8ba3",
   "metadata": {},
   "outputs": [
    {
     "name": "stdout",
     "output_type": "stream",
     "text": [
      "0\n",
      "1\n",
      "2\n",
      "3\n",
      "4\n",
      "5\n",
      "6\n",
      "Processing is enough, please break!\n"
     ]
    }
   ],
   "source": [
    "#break\n",
    "for i in range(10):\n",
    "    if i==7:\n",
    "        print(\"Processing is enough, please break!\")\n",
    "        break\n",
    "    print(i)"
   ]
  },
  {
   "cell_type": "code",
   "execution_count": 12,
   "id": "9c9a3c33",
   "metadata": {},
   "outputs": [
    {
     "name": "stdout",
     "output_type": "stream",
     "text": [
      "10\n",
      "20\n",
      "To place this order insurance must be required.\n"
     ]
    }
   ],
   "source": [
    "cart=[10,20,600,60,70]\n",
    "for item in cart:\n",
    "    if item>500:\n",
    "        print(\"To place this order insurance must be required.\")\n",
    "        break\n",
    "    print(item)"
   ]
  },
  {
   "cell_type": "code",
   "execution_count": 13,
   "id": "0afd122a",
   "metadata": {},
   "outputs": [
    {
     "name": "stdout",
     "output_type": "stream",
     "text": [
      "1\n",
      "3\n",
      "5\n",
      "7\n",
      "9\n"
     ]
    }
   ],
   "source": [
    "#continue\n",
    "for i in range(10):\n",
    "    if i%2==0:\n",
    "        continue\n",
    "    print(i)"
   ]
  },
  {
   "cell_type": "code",
   "execution_count": 14,
   "id": "98e46d58",
   "metadata": {},
   "outputs": [
    {
     "name": "stdout",
     "output_type": "stream",
     "text": [
      "10\n",
      "20\n",
      "We cannot process this item : 500\n",
      "We cannot process this item : 700\n",
      "50\n",
      "60\n"
     ]
    }
   ],
   "source": [
    "cart=[10,20,500,700,50,60]\n",
    "for item in cart:\n",
    "    if item >= 500:\n",
    "        print(\"We cannot process this item :\",item)\n",
    "        continue\n",
    "    print(item)"
   ]
  },
  {
   "cell_type": "code",
   "execution_count": 16,
   "id": "3aee783c",
   "metadata": {},
   "outputs": [
    {
     "name": "stdout",
     "output_type": "stream",
     "text": [
      "100/10 = 10.0\n",
      "100/20 = 5.0\n",
      "We cannot divide by zero.\n",
      "100/5 = 20.0\n",
      "We cannot divide by zero.\n",
      "100/30 = 3.3333333333333335\n"
     ]
    }
   ],
   "source": [
    "numbers=[10,20,0,5,0,30]\n",
    "for n in numbers:\n",
    "    if n==0:\n",
    "        print(\"We cannot divide by zero.\")\n",
    "        continue\n",
    "    print(\"100/{} = {}\".format(n,100/n))"
   ]
  },
  {
   "cell_type": "code",
   "execution_count": 17,
   "id": "6d16097b",
   "metadata": {},
   "outputs": [
    {
     "name": "stdout",
     "output_type": "stream",
     "text": [
      "10\n",
      "20\n",
      "30\n",
      "40\n",
      "50\n",
      "All items processed successfully!\n"
     ]
    }
   ],
   "source": [
    "cart=[10,20,30,40,50]\n",
    "for item in cart:\n",
    "    if item>=500:\n",
    "        print(\"We cannot process this order.\")\n",
    "        break\n",
    "    print(item)\n",
    "else:\n",
    "    print(\"All items processed successfully!\")"
   ]
  },
  {
   "cell_type": "code",
   "execution_count": 18,
   "id": "1fce0b4c",
   "metadata": {
    "scrolled": false
   },
   "outputs": [
    {
     "name": "stdout",
     "output_type": "stream",
     "text": [
      "10\n",
      "We cannot process this order.\n"
     ]
    }
   ],
   "source": [
    "cart=[10,2000,3000,40,50]\n",
    "for item in cart:\n",
    "    if item>=500:\n",
    "        print(\"We cannot process this order.\")\n",
    "        break\n",
    "    print(item)\n",
    "else:\n",
    "    print(\"All items processed successfully!\")"
   ]
  },
  {
   "cell_type": "code",
   "execution_count": 20,
   "id": "8a8b1bb2",
   "metadata": {
    "scrolled": false
   },
   "outputs": [
    {
     "name": "stdout",
     "output_type": "stream",
     "text": [
      "1500\n",
      "1510\n",
      "1520\n",
      "1530\n",
      "1540\n",
      "1550\n",
      "1560\n",
      "1570\n",
      "1580\n",
      "1590\n",
      "1600\n",
      "1610\n",
      "1620\n",
      "1630\n",
      "1640\n",
      "1650\n",
      "1660\n",
      "1670\n",
      "1680\n",
      "1690\n",
      "1700\n",
      "1710\n",
      "1720\n",
      "1730\n",
      "1740\n",
      "1750\n",
      "1760\n",
      "1770\n",
      "1780\n",
      "1790\n",
      "1800\n",
      "1810\n",
      "1820\n",
      "1830\n",
      "1840\n",
      "1850\n",
      "1860\n",
      "1870\n",
      "1880\n",
      "1890\n",
      "1900\n",
      "1910\n",
      "1920\n",
      "1930\n",
      "1940\n",
      "1950\n",
      "1960\n",
      "1970\n",
      "1980\n",
      "1990\n",
      "2000\n",
      "2010\n",
      "2020\n",
      "2030\n",
      "2040\n",
      "2050\n",
      "2060\n",
      "2070\n",
      "2080\n",
      "2090\n",
      "2100\n",
      "2110\n",
      "2120\n",
      "2130\n",
      "2140\n",
      "2150\n",
      "2160\n",
      "2170\n",
      "2180\n",
      "2190\n",
      "2200\n",
      "2210\n",
      "2220\n",
      "2230\n",
      "2240\n",
      "2250\n",
      "2260\n",
      "2270\n",
      "2280\n",
      "2290\n",
      "2300\n",
      "2310\n",
      "2320\n",
      "2330\n",
      "2340\n",
      "2350\n",
      "2360\n",
      "2370\n",
      "2380\n",
      "2390\n",
      "2400\n",
      "2410\n",
      "2420\n",
      "2430\n",
      "2440\n",
      "2450\n",
      "2460\n",
      "2470\n",
      "2480\n",
      "2490\n",
      "2500\n",
      "2510\n",
      "2520\n",
      "2530\n",
      "2540\n",
      "2550\n",
      "2560\n",
      "2570\n",
      "2580\n",
      "2590\n",
      "2600\n",
      "2610\n",
      "2620\n",
      "2630\n",
      "2640\n",
      "2650\n",
      "2660\n",
      "2670\n",
      "2680\n",
      "2690\n"
     ]
    }
   ],
   "source": [
    "#wap to find numbers which are divisible by 2 and multiples of 5, between 1500 and 2700\n",
    "for i in range(1500, 2700,1):\n",
    "    if(i%2 ==0 and i%5==0):\n",
    "        print(i)"
   ]
  },
  {
   "cell_type": "code",
   "execution_count": 21,
   "id": "09a9963a",
   "metadata": {},
   "outputs": [
    {
     "name": "stdout",
     "output_type": "stream",
     "text": [
      "Enter a sentence: Prajukta goes to KIIT.\n",
      "Modified Sentence: pRAJUKTA GOES TO kiit.\n"
     ]
    }
   ],
   "source": [
    "#write a Python program that accepts a sentence from the user and change the case\n",
    "input = input(\"Enter a sentence: \")\n",
    "s = \"\"\n",
    "for char in input:\n",
    "    if char.isalpha():\n",
    "        s += char.upper() if char.islower() else char.lower()\n",
    "    else:\n",
    "        s += char\n",
    "\n",
    "# Display the modified sentence\n",
    "print(\"Modified Sentence:\", s)"
   ]
  },
  {
   "cell_type": "code",
   "execution_count": 2,
   "id": "49eb9bd9",
   "metadata": {},
   "outputs": [
    {
     "name": "stdout",
     "output_type": "stream",
     "text": [
      "Enter the num: 12\n",
      "Enter the num: 14\n",
      "Enter the num: 67\n",
      "Enter the num: 89\n",
      "Enter the num: 90\n",
      "Enter the num: 23\n",
      "Enter the num: 45\n",
      "Enter the num: 67\n",
      "Enter the num: 56\n",
      "Enter the num: 90\n",
      "Enter the num: 12\n",
      "Enter the num: 45\n",
      "Enter the num: 902\n",
      "Enter the num: 23\n",
      "Enter the num: 45\n",
      "7\n",
      "8\n"
     ]
    }
   ],
   "source": [
    "even_count = 0\n",
    "odd_count = 0\n",
    "\n",
    "for i in range(15):\n",
    "    n=int(input(\"Enter the num: \"))\n",
    "    if n%2==0:\n",
    "        even_count+=1\n",
    "    else:\n",
    "        odd_count+=1\n",
    "print(even_count)\n",
    "print(odd_count)"
   ]
  },
  {
   "cell_type": "code",
   "execution_count": 27,
   "id": "dd8d662a",
   "metadata": {},
   "outputs": [
    {
     "name": "stdout",
     "output_type": "stream",
     "text": [
      "5 8 13 21 "
     ]
    }
   ],
   "source": [
    "#Write a Python program to get the Fibonacci series between 5 and 25.\n",
    "a, b = 0, 1\n",
    "l = 5\n",
    "u = 25\n",
    "\n",
    "while a <= u:\n",
    "    if a >= l:\n",
    "        print(a, end=\" \")\n",
    "\n",
    "    a, b = b, a + b"
   ]
  },
  {
   "cell_type": "code",
   "execution_count": 3,
   "id": "3e5936e1",
   "metadata": {},
   "outputs": [
    {
     "name": "stdout",
     "output_type": "stream",
     "text": [
      "Enter the number of rows (m): 3\n",
      "Enter the number of columns (n): 3\n",
      "Generated 2D Array:\n",
      "[0, 0, 0]\n",
      "[0, 1, 2]\n",
      "[0, 2, 4]\n"
     ]
    }
   ],
   "source": [
    "#Write a Python program that takes two digits m (row) and n (column) as input and generates a two-dimensional array. The element value in the i-th row and j-th column of the array should be i*j.\n",
    "m = int(input(\"Enter the number of rows (m): \"))\n",
    "n = int(input(\"Enter the number of columns (n): \"))\n",
    "array = [[i * j for j in range(n)] for i in range(m)]\n",
    "\n",
    "print(\"Generated 2D Array:\")\n",
    "for row in array:\n",
    "    print(row)"
   ]
  },
  {
   "cell_type": "code",
   "execution_count": 1,
   "id": "8f1102c2",
   "metadata": {},
   "outputs": [
    {
     "name": "stdout",
     "output_type": "stream",
     "text": [
      "Enter a string: Prajukta 67\n",
      "Number of digits: 2\n",
      "Number of letters: 8\n"
     ]
    }
   ],
   "source": [
    "#Write a Python program that accepts a string and calculates the number of digits and letters.\n",
    "user_input=input(\"Enter a string: \")\n",
    "\n",
    "digit = 0\n",
    "letter = 0\n",
    "for char in user_input:\n",
    "    if char.isdigit():\n",
    "        digit += 1\n",
    "    elif char.isalpha():\n",
    "        letter += 1\n",
    "\n",
    "print(\"Number of digits:\", digit)\n",
    "print(\"Number of letters:\", letter)"
   ]
  },
  {
   "cell_type": "code",
   "execution_count": 4,
   "id": "9c8dfda2",
   "metadata": {},
   "outputs": [
    {
     "name": "stdout",
     "output_type": "stream",
     "text": [
      "Enter an alphabet: r\n",
      "r is a consonant.\n"
     ]
    }
   ],
   "source": [
    "#Write a Python program to check whether an alphabet is a vowel or consonant.\n",
    "alphabet = input(\"Enter an alphabet: \")\n",
    "if len(alphabet) == 1:\n",
    "    alphabet = alphabet.lower()\n",
    "    if alphabet in ['a', 'e', 'i', 'o', 'u']:\n",
    "        print(f\"{alphabet} is a vowel.\")\n",
    "    else:\n",
    "        print(f\"{alphabet} is a consonant.\")\n",
    "else:\n",
    "    print(\"Please enter a single alphabet.\")"
   ]
  },
  {
   "cell_type": "code",
   "execution_count": 6,
   "id": "0769f5b2",
   "metadata": {},
   "outputs": [
    {
     "name": "stdout",
     "output_type": "stream",
     "text": [
      "Enter the month name: January\n",
      "The number of days in January is 31.\n"
     ]
    }
   ],
   "source": [
    "#Write a Python program to convert a month name to a number of days.\n",
    "month = input(\"Enter the month name: \")\n",
    "month = month.lower()\n",
    "days = {\n",
    "    'january': 31,\n",
    "    'february': 28,\n",
    "    'march': 31,\n",
    "    'april': 30,\n",
    "    'may': 31,\n",
    "    'june': 30,\n",
    "    'july': 31,\n",
    "    'august': 31,\n",
    "    'september': 30,\n",
    "    'october': 31,\n",
    "    'november': 30,\n",
    "    'december': 31\n",
    "}\n",
    "\n",
    "if month in days:\n",
    "    print(f\"The number of days in {month.capitalize()} is {days[month]}.\")\n",
    "else:\n",
    "    print(\"Invalid month name. Please enter a valid month name.\")"
   ]
  },
  {
   "cell_type": "code",
   "execution_count": 10,
   "id": "3fad7fb6",
   "metadata": {},
   "outputs": [
    {
     "name": "stdout",
     "output_type": "stream",
     "text": [
      "Enter a number: 2\n",
      "2\n",
      "4\n",
      "6\n",
      "8\n",
      "10\n",
      "12\n",
      "14\n",
      "16\n",
      "18\n",
      "20\n"
     ]
    }
   ],
   "source": [
    "#Write a Python program to create the multiplication table (from 1 to 10) of a number.\n",
    "num = int(input(\"Enter a number: \"))\n",
    "for i in range(1,11,1):\n",
    "    print(num*i)"
   ]
  },
  {
   "cell_type": "code",
   "execution_count": 11,
   "id": "44d605dd",
   "metadata": {},
   "outputs": [
    {
     "name": "stdout",
     "output_type": "stream",
     "text": [
      "1\n",
      "22\n",
      "333\n",
      "4444\n"
     ]
    }
   ],
   "source": [
    "#Write a Python program to construct the following pattern, using a nested loop number.\n",
    "rows = 4\n",
    "for i in range(1, rows + 1):\n",
    "    for j in range(1, i + 1):\n",
    "        print(i, end=\"\")\n",
    "    print()"
   ]
  },
  {
   "cell_type": "code",
   "execution_count": 14,
   "id": "73e383b0",
   "metadata": {},
   "outputs": [
    {
     "name": "stdout",
     "output_type": "stream",
     "text": [
      "Enter number 1: 1\n",
      "Enter number 2: 2\n",
      "Enter number 3: 3\n",
      "Enter number 4: 4\n",
      "Enter number 5: 5\n",
      "Enter number 6: 6\n",
      "Enter number 7: 7\n",
      "Enter number 8: 8\n",
      "Enter number 9: 9\n",
      "Enter number 10: 10\n",
      "The sum of the entered numbers is: 55.0\n"
     ]
    }
   ],
   "source": [
    "#WAP to calculate the sum of numbers (10 numbers max),If the user enters a negative number, the loop terminates.\n",
    "sum = 0\n",
    "count = 0\n",
    "max = 10\n",
    "while count < max:\n",
    "    num = float(input(f\"Enter number {count + 1}: \"))\n",
    "    if num < 0:\n",
    "        print(\"Negative number entered. Terminating the loop.\")\n",
    "        break\n",
    "\n",
    "    sum += num\n",
    "    count += 1\n",
    "    \n",
    "print(f\"The sum of the entered numbers is: {sum}\")"
   ]
  },
  {
   "cell_type": "code",
   "execution_count": 17,
   "id": "da3106b1",
   "metadata": {},
   "outputs": [
    {
     "name": "stdout",
     "output_type": "stream",
     "text": [
      "Enter number 1: 1\n",
      "Enter number 2: 2\n",
      "Enter number 3: 3\n",
      "Enter number 4: -5\n",
      "Negative number entered. It will not be added to the sum.\n",
      "Enter number 5: 5\n",
      "Enter number 6: 6\n",
      "Enter number 7: -9\n",
      "Negative number entered. It will not be added to the sum.\n",
      "Enter number 8: 3\n",
      "Enter number 9: 2\n",
      "Enter number 10: 1\n",
      "The sum of the entered non-negative numbers is: 23.0\n"
     ]
    }
   ],
   "source": [
    "#WAP to calculate the sum of numbers (10 numbers max),If the user enters a negative number, it&#39;s not added to the result.\n",
    "sum = 0\n",
    "count = 0\n",
    "max = 10\n",
    "while count < max:\n",
    "    num = float(input(f\"Enter number {count + 1}: \"))\n",
    "    if num < 0:\n",
    "        print(\"Negative number entered. It will not be added to the sum.\")\n",
    "    else:\n",
    "        sum += num\n",
    "    count += 1\n",
    "\n",
    "print(f\"The sum of the entered non-negative numbers is: {sum}\")"
   ]
  },
  {
   "cell_type": "code",
   "execution_count": 18,
   "id": "fd22d5ac",
   "metadata": {},
   "outputs": [
    {
     "name": "stdout",
     "output_type": "stream",
     "text": [
      "Enter the start of the range: 1\n",
      "Enter the end of the range: 10\n",
      "Numbers within the range (1, 10) except prime numbers:\n",
      "4 6 8 9 10 "
     ]
    }
   ],
   "source": [
    "#Python program to display all numbers within a range except the prime numbers.\n",
    "start = int(input(\"Enter the start of the range: \"))\n",
    "end = int(input(\"Enter the end of the range: \"))\n",
    "print(f\"Numbers within the range ({start}, {end}) except prime numbers:\")\n",
    "for num in range(start, end + 1):\n",
    "    if num < 2:\n",
    "        continue\n",
    "    is_prime = True\n",
    "    for i in range(2, int(num**0.5) + 1):\n",
    "        if num % i == 0:\n",
    "            is_prime = False\n",
    "            break\n",
    "    if not is_prime:\n",
    "        print(num, end=' ')"
   ]
  },
  {
   "cell_type": "code",
   "execution_count": 21,
   "id": "180f150b",
   "metadata": {},
   "outputs": [
    {
     "name": "stdout",
     "output_type": "stream",
     "text": [
      "Enter elements of the first list separated by spaces: 1 2 3\n",
      "Enter elements of the second list separated by spaces: 3 4 5\n",
      "Common elements: [3]\n"
     ]
    }
   ],
   "source": [
    "#Find the common elements in two lists using a for loop\n",
    "list1 = input(\"Enter elements of the first list separated by spaces: \").split()\n",
    "list1 = [int(element) for element in list1]\n",
    "\n",
    "\n",
    "list2 = input(\"Enter elements of the second list separated by spaces: \").split()\n",
    "list2 = [int(element) for element in list2]\n",
    "\n",
    "common = []\n",
    "\n",
    "for element in list1:\n",
    "    if element in list2:\n",
    "        common.append(element)\n",
    "\n",
    "print(\"Common elements:\", common)"
   ]
  },
  {
   "cell_type": "code",
   "execution_count": 22,
   "id": "20ec2c96",
   "metadata": {},
   "outputs": [
    {
     "name": "stdout",
     "output_type": "stream",
     "text": [
      "1\n",
      "2\n",
      "3\n",
      "4\n",
      "Breaking the loop because 4 is divisible by 4\n"
     ]
    }
   ],
   "source": [
    "#Print numbers from 1 to 10. If a number is divisible by 4, stop the loop using for loop and break statement.\n",
    "for number in range(1, 11):\n",
    "    print(number)\n",
    "    if number % 4 == 0:\n",
    "        print(\"Breaking the loop because\", number, \"is divisible by 4.\")\n",
    "        break"
   ]
  }
 ],
 "metadata": {
  "kernelspec": {
   "display_name": "Python 3 (ipykernel)",
   "language": "python",
   "name": "python3"
  },
  "language_info": {
   "codemirror_mode": {
    "name": "ipython",
    "version": 3
   },
   "file_extension": ".py",
   "mimetype": "text/x-python",
   "name": "python",
   "nbconvert_exporter": "python",
   "pygments_lexer": "ipython3",
   "version": "3.11.5"
  }
 },
 "nbformat": 4,
 "nbformat_minor": 5
}
