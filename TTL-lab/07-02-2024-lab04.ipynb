{
 "cells": [
  {
   "cell_type": "code",
   "execution_count": 1,
   "id": "43f36aa3",
   "metadata": {},
   "outputs": [
    {
     "name": "stdout",
     "output_type": "stream",
     "text": [
      "Enter up to 10 numbers. Enter a negative number to stop.\n",
      "Enter number 1: 12\n",
      "Enter number 2: 34\n",
      "Enter number 3: -90\n",
      "\n",
      "Sum of the numbers entered: 46.0\n"
     ]
    }
   ],
   "source": [
    "#1.WAP to calculate the sum of numbers (10 numbers max),If the user enters negative number, the loop terminates.\n",
    "def calculate_sum():\n",
    "    numbers = []\n",
    "    print(\"Enter up to 10 numbers. Enter a negative number to stop.\")\n",
    "    while len(numbers) < 10:\n",
    "        try:\n",
    "            num = float(input(f\"Enter number {len(numbers) + 1}: \"))\n",
    "            if num < 0:\n",
    "                break  \n",
    "            \n",
    "            numbers.append(num)\n",
    "        except ValueError:\n",
    "            print(\"Invalid input. Please enter a valid number.\")\n",
    "    \n",
    "    total_sum = sum(numbers)\n",
    "    print(f\"\\nSum of the numbers entered: {total_sum}\")\n",
    "\n",
    "calculate_sum()"
   ]
  },
  {
   "cell_type": "code",
   "execution_count": 2,
   "id": "cff6ae80",
   "metadata": {},
   "outputs": [
    {
     "name": "stdout",
     "output_type": "stream",
     "text": [
      "Enter up to 10 numbers. Enter a negative number to stop.\n",
      "Enter number 1: 12\n",
      "Enter number 2: -90\n",
      "\n",
      "Sum of the positive numbers entered: 12.0\n"
     ]
    }
   ],
   "source": [
    "#2.WAP to calculate the sum of numbers (10 numbers max),If the user enters a negative number not added to the result.\n",
    "def calculate_sum():\n",
    "    numbers = []\n",
    "    print(\"Enter up to 10 numbers. Enter a negative number to stop.\")\n",
    "    while len(numbers) < 10:\n",
    "        try:\n",
    "            num = float(input(f\"Enter number {len(numbers) + 1}: \"))\n",
    "            if num < 0:\n",
    "                break\n",
    "            \n",
    "            numbers.append(num)\n",
    "        except ValueError:\n",
    "            print(\"Invalid input. Please enter a valid number.\")\n",
    "    \n",
    "    positive_numbers = [num for num in numbers if num >= 0]\n",
    "    total_sum = sum(positive_numbers)\n",
    "    print(f\"\\nSum of the positive numbers entered: {total_sum}\")\n",
    "\n",
    "calculate_sum()"
   ]
  },
  {
   "cell_type": "code",
   "execution_count": 3,
   "id": "b8c707b0",
   "metadata": {},
   "outputs": [
    {
     "name": "stdout",
     "output_type": "stream",
     "text": [
      "Enter the starting number of the range: 1\n",
      "Enter the ending number of the range: 10\n",
      "\n",
      "Non-prime numbers within the range 1 to 10:\n",
      "1 4 6 8 9 10 "
     ]
    }
   ],
   "source": [
    "#3.Python program to display all numbers within a range except the prime numbers.\n",
    "def is_prime(number):\n",
    "    if number < 2:\n",
    "        return False\n",
    "    for i in range(2, int(number**0.5) + 1):\n",
    "        if number % i == 0:\n",
    "            return False\n",
    "    return True\n",
    "\n",
    "def non_prime():\n",
    "    start_input = input(\"Enter the starting number of the range: \")\n",
    "    end_input = input(\"Enter the ending number of the range: \")\n",
    "\n",
    "    if start_input.isdigit() and end_input.isdigit():\n",
    "        start = int(start_input)\n",
    "        end = int(end_input)\n",
    "\n",
    "        print(f\"\\nNon-prime numbers within the range {start} to {end}:\")\n",
    "\n",
    "        for num in range(start, end + 1):\n",
    "            if not is_prime(num):\n",
    "                print(num, end=\" \")\n",
    "    else:\n",
    "        print(\"Invalid input. Please enter valid integers.\")\n",
    "\n",
    "non_prime()"
   ]
  },
  {
   "cell_type": "code",
   "execution_count": 5,
   "id": "a5739386",
   "metadata": {},
   "outputs": [
    {
     "name": "stdout",
     "output_type": "stream",
     "text": [
      "Enter the elements of the first list separated by commas: 1,2,3\n",
      "Enter the elements of the second list separated by commas: 2,4,5\n",
      "Common elements: 2\n"
     ]
    }
   ],
   "source": [
    "#4.Find the common elements in two lists using a for loop\n",
    "def find_common_elements(list1, list2):\n",
    "    common_elements = []\n",
    "    for element in list1:\n",
    "        if element in list2:\n",
    "            common_elements.append(element)\n",
    "    return common_elements\n",
    "\n",
    "list1 = input(\"Enter the elements of the first list separated by commas: \").split(\",\")\n",
    "list2 = input(\"Enter the elements of the second list separated by commas: \").split(\",\")\n",
    "\n",
    "common_elements = find_common_elements(list1, list2)\n",
    "print(\"Common elements:\", \", \".join(str(x) for x in common_elements))\n"
   ]
  },
  {
   "cell_type": "code",
   "execution_count": 6,
   "id": "04e8876e",
   "metadata": {},
   "outputs": [
    {
     "name": "stdout",
     "output_type": "stream",
     "text": [
      "1\n",
      "2\n",
      "3\n",
      "4\n"
     ]
    }
   ],
   "source": [
    "#5.Print numbers from 1 to 10. If a number is divisible by 4, stop the loop using a for loop and break statement.\n",
    "def divisible4():\n",
    "    for num in range(1, 11):\n",
    "        print(num)\n",
    "        if num % 4 == 0:\n",
    "            break\n",
    "\n",
    "divisible4()"
   ]
  },
  {
   "cell_type": "code",
   "execution_count": 7,
   "id": "aff96972",
   "metadata": {},
   "outputs": [
    {
     "name": "stdout",
     "output_type": "stream",
     "text": [
      "Enter elements of the list separated by commas: 1,2,3,4,5\n",
      "Unique elements: 1, 2, 3, 4, 5\n"
     ]
    }
   ],
   "source": [
    "#6.Write a Python function that takes a list and returns a new list with distinct elementsfrom the first list.\n",
    "def remove_duplicates(data):\n",
    "    unique_elements = []\n",
    "    for element in data:\n",
    "        if element not in unique_elements:\n",
    "            unique_elements.append(element)\n",
    "    return unique_elements\n",
    "\n",
    "\n",
    "user_input = input(\"Enter elements of the list separated by commas: \")\n",
    "list_with_duplicates = user_input.split(\",\")\n",
    "\n",
    "unique_list = remove_duplicates(list_with_duplicates)\n",
    "print(\"Unique elements:\", \", \".join(str(x) for x in unique_list))"
   ]
  },
  {
   "cell_type": "code",
   "execution_count": 8,
   "id": "110e8103",
   "metadata": {},
   "outputs": [
    {
     "name": "stdout",
     "output_type": "stream",
     "text": [
      "True\n"
     ]
    }
   ],
   "source": [
    "#7.Write a Python function to check whether a number is Perfect or not\n",
    "def perfect_number(n):\n",
    "    sum = 0\n",
    "    for x in range(1, n):\n",
    "        if n % x == 0:\n",
    "            sum += x\n",
    "    return sum == n\n",
    "\n",
    "\n",
    "print(perfect_number(6)) "
   ]
  },
  {
   "cell_type": "code",
   "execution_count": null,
   "id": "0490aeaa",
   "metadata": {},
   "outputs": [],
   "source": [
    "#8.Write a program to find out the prime factors of a number Using Function.\n",
    "def is_prime(n):\n",
    "    if n <= 1:\n",
    "        return False\n",
    "    for i in range(2, int(n**0.5) + 1):\n",
    "        if n % i == 0:\n",
    "            return False\n",
    "        return True\n",
    "\n",
    "def prime_factors(n):\n",
    "    factors = []\n",
    "    i = 2\n",
    "    while i * i <= n:\n",
    "        if n % i == 0:\n",
    "            factors.append(i)\n",
    "            n //= i\n",
    "    else:\n",
    "        i += 1\n",
    "        if n > 1:\n",
    "            factors.append(n)\n",
    "    return factors\n",
    "\n",
    "number = 120\n",
    "prime_factors_list = prime_factors(number)\n",
    "print(f\"The prime factors of {number} are: {prime_factors_list}\")"
   ]
  },
  {
   "cell_type": "code",
   "execution_count": 1,
   "id": "f069caf7",
   "metadata": {},
   "outputs": [
    {
     "name": "stdout",
     "output_type": "stream",
     "text": [
      "Enter a positive integer: 12\n",
      "The prime factors of 12 are: [2, 2, 3]\n"
     ]
    }
   ],
   "source": [
    "def is_prime(n):\n",
    "    return n > 1 and all(n % i != 0 for i in range(2, int(n**0.5) + 1))\n",
    "\n",
    "def prime_factors(n):\n",
    "    factors = []\n",
    "    i = 2\n",
    "    while i * i <= n:\n",
    "        if n % i == 0:\n",
    "            factors.append(i)\n",
    "            n //= i\n",
    "        else:\n",
    "            i += 1\n",
    "    if n > 1:\n",
    "        factors.append(n)\n",
    "    return factors\n",
    "\n",
    "while True:\n",
    "    number = int(input(\"Enter a positive integer: \"))\n",
    "    if number > 0:\n",
    "        break\n",
    "    else:\n",
    "        print(\"Please enter a positive integer.\")\n",
    "\n",
    "prime_factors_list = prime_factors(number)\n",
    "print(f\"The prime factors of {number} are: {prime_factors_list}\")"
   ]
  },
  {
   "cell_type": "code",
   "execution_count": 2,
   "id": "1f1dc95d",
   "metadata": {},
   "outputs": [
    {
     "name": "stdout",
     "output_type": "stream",
     "text": [
      "Enter a positive integer: 12\n",
      "12 in binary is: 1100\n"
     ]
    }
   ],
   "source": [
    "#9.Write a function that converts a decimal number to binary number.\n",
    "def decimal_to_binary(n):\n",
    "    binary = \"\"\n",
    "    while n > 0:\n",
    "        binary = str(n % 2) + binary\n",
    "        n //= 2\n",
    "    return binary\n",
    "\n",
    "while True:\n",
    "    number = int(input(\"Enter a positive integer: \"))\n",
    "    if number > 0:\n",
    "        break\n",
    "    else:\n",
    "        print(\"Please enter a positive integer.\")\n",
    "\n",
    "binary_string = decimal_to_binary(number)\n",
    "print(f\"{number} in binary is: {binary_string}\")"
   ]
  },
  {
   "cell_type": "code",
   "execution_count": 3,
   "id": "38240ab6",
   "metadata": {},
   "outputs": [],
   "source": [
    "#10.Write a function cubesum() that accepts an integer and returns the sum of the cubesof individual digits of that number.\n",
    "def cubesum(n):\n",
    "    sum = 0\n",
    "    while n > 0:\n",
    "        digit = n % 10\n",
    "        sum += digit * digit * digit\n",
    "        n //= 10\n",
    "    return sum"
   ]
  },
  {
   "cell_type": "code",
   "execution_count": 4,
   "id": "27c26f98",
   "metadata": {},
   "outputs": [
    {
     "data": {
      "text/plain": [
       "8"
      ]
     },
     "execution_count": 4,
     "metadata": {},
     "output_type": "execute_result"
    }
   ],
   "source": [
    "cubesum(2)"
   ]
  },
  {
   "cell_type": "code",
   "execution_count": 5,
   "id": "3d5611e4",
   "metadata": {},
   "outputs": [
    {
     "name": "stdout",
     "output_type": "stream",
     "text": [
      "Enter a positive integer: 13\n",
      "The sum of proper divisors of 13 is: 1\n"
     ]
    }
   ],
   "source": [
    "#11.Write a function sumPdivisors() that finds the sum of proper divisors of a number.Proper divisors of a number are those numbers by which the number is divisible,except the number itself.\n",
    "def sumPdivisors(n):\n",
    "    if n <= 0:\n",
    "        return \"Invalid input.\"\n",
    "    sum = 1\n",
    "    for i in range(2, int(n**0.5) + 1):\n",
    "        if n % i == 0:\n",
    "            if i * i == n:\n",
    "                sum += i\n",
    "            else:\n",
    "                sum += i + n // i\n",
    "    return sum\n",
    "\n",
    "while True:\n",
    "    number = int(input(\"Enter a positive integer: \"))\n",
    "    if number > 0:\n",
    "        break\n",
    "    else:\n",
    "        print(\"Please enter a positive number.\")\n",
    "\n",
    "divisor_sum = sumPdivisors(number)\n",
    "print(f\"The sum of proper divisors of {number} is: {divisor_sum}\")"
   ]
  },
  {
   "cell_type": "code",
   "execution_count": 8,
   "id": "2ce081f6",
   "metadata": {},
   "outputs": [
    {
     "name": "stdout",
     "output_type": "stream",
     "text": [
      "12 * 1 = 12\n",
      "12 * 2 = 24\n",
      "12 * 3 = 36\n",
      "12 * 4 = 48\n",
      "12 * 5 = 60\n",
      "12 * 6 = 72\n",
      "12 * 7 = 84\n",
      "12 * 8 = 96\n",
      "12 * 9 = 108\n",
      "12 * 10 = 120\n",
      "12 * 11 = 132\n",
      "12 * 12 = 144\n"
     ]
    }
   ],
   "source": [
    "def print_table(num, start=1):\n",
    "    if start > 12:\n",
    "        return\n",
    "    print(f\"{num} * {start} = {num * start}\")\n",
    "    print_table(num, start + 1)\n",
    "\n",
    "num = 12\n",
    "print_table(num)"
   ]
  },
  {
   "cell_type": "code",
   "execution_count": 1,
   "id": "3ba76f05",
   "metadata": {},
   "outputs": [
    {
     "name": "stdout",
     "output_type": "stream",
     "text": [
      "Enter the base number: 2\n",
      "Enter the exponent: 3\n",
      "2.0^3.0 = 8.0\n"
     ]
    }
   ],
   "source": [
    "#13.Write a function to calculate power of a number raised to other ( a b ) using recursion.\n",
    "def power(base, exponent):\n",
    "    if exponent == 0:\n",
    "        return 1\n",
    "    else:\n",
    "        return base * power(base, exponent - 1)\n",
    "    \n",
    "base = float(input(\"Enter the base number: \"))\n",
    "exponent = float(input(\"Enter the exponent: \"))\n",
    "\n",
    "result = power(base, exponent)\n",
    "print(f\"{base}^{exponent} = {result}\")"
   ]
  },
  {
   "cell_type": "code",
   "execution_count": 3,
   "id": "003d997f",
   "metadata": {},
   "outputs": [
    {
     "name": "stdout",
     "output_type": "stream",
     "text": [
      "Perfect numbers between 1 and 1000: [6, 28, 496]\n"
     ]
    }
   ],
   "source": [
    "#14.Write a function “perfect()” that determines if parameter number is a perfectnumber. Use this function in a program that determines and prints all the perfectnumbers between 1 and 1000.\n",
    "def is_perfect(num):\n",
    "    if num <= 0:\n",
    "        return False\n",
    "    divisors_sum = 0\n",
    "    for i in range(1, num):\n",
    "        if num % i == 0:\n",
    "            divisors_sum += i\n",
    "\n",
    "    return divisors_sum == num\n",
    "\n",
    "perfect_numbers = []\n",
    "for num in range(1, 1001):\n",
    "    if is_perfect(num):\n",
    "        perfect_numbers.append(num)\n",
    "\n",
    "print(\"Perfect numbers between 1 and 1000:\", perfect_numbers)"
   ]
  }
 ],
 "metadata": {
  "kernelspec": {
   "display_name": "Python 3 (ipykernel)",
   "language": "python",
   "name": "python3"
  },
  "language_info": {
   "codemirror_mode": {
    "name": "ipython",
    "version": 3
   },
   "file_extension": ".py",
   "mimetype": "text/x-python",
   "name": "python",
   "nbconvert_exporter": "python",
   "pygments_lexer": "ipython3",
   "version": "3.11.5"
  }
 },
 "nbformat": 4,
 "nbformat_minor": 5
}
