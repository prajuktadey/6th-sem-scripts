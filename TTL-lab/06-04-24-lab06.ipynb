{
 "cells": [
  {
   "cell_type": "code",
   "execution_count": 1,
   "id": "4aaf0672",
   "metadata": {
    "scrolled": true
   },
   "outputs": [
    {
     "name": "stdout",
     "output_type": "stream",
     "text": [
      "Requirement already satisfied: numpy in c:\\personal\\lib\\site-packages (1.24.3)\n",
      "Note: you may need to restart the kernel to use updated packages.\n"
     ]
    }
   ],
   "source": [
    "pip install numpy"
   ]
  },
  {
   "cell_type": "code",
   "execution_count": 4,
   "id": "08c1fb4a",
   "metadata": {},
   "outputs": [
    {
     "name": "stdout",
     "output_type": "stream",
     "text": [
      "[1, 2, 3, 4, 5, 6]\n"
     ]
    }
   ],
   "source": [
    "my_list = [1,2,3,4,5,6]\n",
    "print(my_list)"
   ]
  },
  {
   "cell_type": "code",
   "execution_count": 5,
   "id": "d899efd6",
   "metadata": {},
   "outputs": [],
   "source": [
    "import numpy as np"
   ]
  },
  {
   "cell_type": "code",
   "execution_count": 6,
   "id": "24102742",
   "metadata": {},
   "outputs": [
    {
     "name": "stdout",
     "output_type": "stream",
     "text": [
      "[1 2 3 4 5 6]\n"
     ]
    }
   ],
   "source": [
    "array = np.array(my_list, dtype = int)\n",
    "print(array)"
   ]
  },
  {
   "cell_type": "code",
   "execution_count": 7,
   "id": "dee49b7e",
   "metadata": {},
   "outputs": [
    {
     "name": "stdout",
     "output_type": "stream",
     "text": [
      "<class 'numpy.ndarray'>\n",
      "6\n",
      "1\n",
      "(6,)\n"
     ]
    }
   ],
   "source": [
    "print(type(array))\n",
    "print(len(array))\n",
    "print(array.ndim)\n",
    "print(array.shape)"
   ]
  },
  {
   "cell_type": "code",
   "execution_count": 8,
   "id": "c8c9e627",
   "metadata": {},
   "outputs": [
    {
     "name": "stdout",
     "output_type": "stream",
     "text": [
      "[[1 2]\n",
      " [3 4]\n",
      " [5 6]]\n"
     ]
    },
    {
     "data": {
      "text/plain": [
       "(3, 2)"
      ]
     },
     "execution_count": 8,
     "metadata": {},
     "output_type": "execute_result"
    }
   ],
   "source": [
    "array2 = array.reshape(3,2)\n",
    "print(array2)\n",
    "array2.shape"
   ]
  },
  {
   "cell_type": "code",
   "execution_count": 9,
   "id": "3495a9af",
   "metadata": {},
   "outputs": [
    {
     "name": "stdout",
     "output_type": "stream",
     "text": [
      "[[1 2]\n",
      " [3 4]\n",
      " [5 6]]\n",
      "2\n"
     ]
    }
   ],
   "source": [
    "array3 = array.reshape(3, -1)\n",
    "print(array3)\n",
    "print(array3.ndim)"
   ]
  },
  {
   "cell_type": "code",
   "execution_count": 11,
   "id": "0148d255",
   "metadata": {},
   "outputs": [
    {
     "name": "stdout",
     "output_type": "stream",
     "text": [
      "[[1 2 3 4 5]\n",
      " [2 3 4 5 6]\n",
      " [9 7 6 8 9]]\n",
      "(3, 5)\n"
     ]
    }
   ],
   "source": [
    "my_list2 = [1,2,3,4,5]\n",
    "my_list3 = [2,3,4,5,6]\n",
    "my_list4 = [9,7,6,8,9]\n",
    "\n",
    "mul_arr = np.array([my_list2, my_list3, my_list4])\n",
    "print(mul_arr)\n",
    "\n",
    "print(mul_arr.shape)"
   ]
  },
  {
   "cell_type": "code",
   "execution_count": 12,
   "id": "3d7ba094",
   "metadata": {},
   "outputs": [
    {
     "data": {
      "text/plain": [
       "array([[1, 2, 3, 4, 5, 2, 3, 4, 5, 6, 9, 7, 6, 8, 9]])"
      ]
     },
     "execution_count": 12,
     "metadata": {},
     "output_type": "execute_result"
    }
   ],
   "source": [
    "mul_arr.reshape(1,15)"
   ]
  },
  {
   "cell_type": "code",
   "execution_count": 13,
   "id": "b5779db5",
   "metadata": {},
   "outputs": [
    {
     "name": "stdout",
     "output_type": "stream",
     "text": [
      "(2, 3)\n"
     ]
    }
   ],
   "source": [
    "a = np.array([[1,2,3], [4,5,6]])\n",
    "print(a.shape)"
   ]
  },
  {
   "cell_type": "code",
   "execution_count": 14,
   "id": "a978e49a",
   "metadata": {},
   "outputs": [
    {
     "name": "stdout",
     "output_type": "stream",
     "text": [
      "[[1 2]\n",
      " [3 4]\n",
      " [5 6]]\n"
     ]
    }
   ],
   "source": [
    "# reshaping the ndarray\n",
    "a.shape = (3,2)\n",
    "print(a)"
   ]
  },
  {
   "cell_type": "code",
   "execution_count": 15,
   "id": "768e41bd",
   "metadata": {},
   "outputs": [],
   "source": [
    "r = range(24)"
   ]
  },
  {
   "cell_type": "code",
   "execution_count": 16,
   "id": "90b90870",
   "metadata": {},
   "outputs": [
    {
     "name": "stdout",
     "output_type": "stream",
     "text": [
      "range(0, 24)\n"
     ]
    }
   ],
   "source": [
    "print(r)"
   ]
  },
  {
   "cell_type": "code",
   "execution_count": 18,
   "id": "c3fe444f",
   "metadata": {},
   "outputs": [
    {
     "name": "stdout",
     "output_type": "stream",
     "text": [
      "[ 0  1  2  3  4  5  6  7  8  9 10 11 12 13 14 15 16 17 18 19 20 21 22 23]\n",
      "1\n"
     ]
    }
   ],
   "source": [
    "a = np.arange(24)\n",
    "print(a)\n",
    "print(a.ndim)"
   ]
  },
  {
   "cell_type": "code",
   "execution_count": 20,
   "id": "88ca2dc7",
   "metadata": {},
   "outputs": [
    {
     "name": "stdout",
     "output_type": "stream",
     "text": [
      "[[[ 0]\n",
      "  [ 1]\n",
      "  [ 2]\n",
      "  [ 3]]\n",
      "\n",
      " [[ 4]\n",
      "  [ 5]\n",
      "  [ 6]\n",
      "  [ 7]]\n",
      "\n",
      " [[ 8]\n",
      "  [ 9]\n",
      "  [10]\n",
      "  [11]]\n",
      "\n",
      " [[12]\n",
      "  [13]\n",
      "  [14]\n",
      "  [15]]\n",
      "\n",
      " [[16]\n",
      "  [17]\n",
      "  [18]\n",
      "  [19]]\n",
      "\n",
      " [[20]\n",
      "  [21]\n",
      "  [22]\n",
      "  [23]]]\n"
     ]
    }
   ],
   "source": [
    "b = a.reshape(6, 4, 1)\n",
    "print(b)"
   ]
  },
  {
   "cell_type": "code",
   "execution_count": 21,
   "id": "159c5308",
   "metadata": {},
   "outputs": [
    {
     "name": "stdout",
     "output_type": "stream",
     "text": [
      "4\n"
     ]
    }
   ],
   "source": [
    "x = np.array([1,2,3,4,5], dtype = np.float32)\n",
    "print(x.itemsize)"
   ]
  },
  {
   "cell_type": "code",
   "execution_count": 22,
   "id": "b18378df",
   "metadata": {},
   "outputs": [
    {
     "name": "stdout",
     "output_type": "stream",
     "text": [
      "[[1. 2.]\n",
      " [3. 4.]]\n",
      "[[5. 6.]\n",
      " [7. 8.]]\n"
     ]
    }
   ],
   "source": [
    "x = np.array([[1,2], [3,4]], dtype=np.float64)\n",
    "y = np.array([[5,6], [7,8]], dtype=np.float64)\n",
    "print(x)\n",
    "print(y)"
   ]
  },
  {
   "cell_type": "code",
   "execution_count": 23,
   "id": "eb5ec98e",
   "metadata": {},
   "outputs": [
    {
     "name": "stdout",
     "output_type": "stream",
     "text": [
      "[[ 6.  8.]\n",
      " [10. 12.]]\n",
      "[[ 6.  8.]\n",
      " [10. 12.]]\n"
     ]
    }
   ],
   "source": [
    "print(x + y)\n",
    "print(np.add(x,y))"
   ]
  },
  {
   "cell_type": "code",
   "execution_count": 24,
   "id": "80b3c4a2",
   "metadata": {},
   "outputs": [
    {
     "name": "stdout",
     "output_type": "stream",
     "text": [
      "[[-4. -4.]\n",
      " [-4. -4.]]\n",
      "[[-4. -4.]\n",
      " [-4. -4.]]\n"
     ]
    }
   ],
   "source": [
    "print(x - y)\n",
    "print(np.subtract(x,y))"
   ]
  },
  {
   "cell_type": "code",
   "execution_count": 25,
   "id": "e9902d07",
   "metadata": {},
   "outputs": [
    {
     "name": "stdout",
     "output_type": "stream",
     "text": [
      "[[ 5. 12.]\n",
      " [21. 32.]]\n",
      "[[ 5. 12.]\n",
      " [21. 32.]]\n",
      "[[19. 22.]\n",
      " [43. 50.]]\n"
     ]
    }
   ],
   "source": [
    "print(x * y)\n",
    "print(np.multiply(x,y))\n",
    "print(x.dot(y))"
   ]
  },
  {
   "cell_type": "code",
   "execution_count": 26,
   "id": "0b0e9798",
   "metadata": {},
   "outputs": [
    {
     "name": "stdout",
     "output_type": "stream",
     "text": [
      "[[19. 22.]\n",
      " [43. 50.]]\n",
      "[[19. 22.]\n",
      " [43. 50.]]\n"
     ]
    }
   ],
   "source": [
    "print(x.dot(y))\n",
    "print(np.dot(x,y))"
   ]
  },
  {
   "cell_type": "code",
   "execution_count": 27,
   "id": "35e16d93",
   "metadata": {},
   "outputs": [
    {
     "name": "stdout",
     "output_type": "stream",
     "text": [
      "[[0.2        0.33333333]\n",
      " [0.42857143 0.5       ]]\n",
      "[[0.2        0.33333333]\n",
      " [0.42857143 0.5       ]]\n"
     ]
    }
   ],
   "source": [
    "print(x/y)\n",
    "print(np.divide(x,y))"
   ]
  },
  {
   "cell_type": "code",
   "execution_count": 28,
   "id": "df935ef6",
   "metadata": {},
   "outputs": [
    {
     "name": "stdout",
     "output_type": "stream",
     "text": [
      "10.0\n"
     ]
    }
   ],
   "source": [
    "print(np.sum(x))"
   ]
  },
  {
   "cell_type": "code",
   "execution_count": 29,
   "id": "06e2b044",
   "metadata": {},
   "outputs": [
    {
     "name": "stdout",
     "output_type": "stream",
     "text": [
      "[4. 6.]\n",
      "[3. 7.]\n"
     ]
    }
   ],
   "source": [
    "print(np.sum(x, axis=0))\n",
    "print(np.sum(x, axis=1))"
   ]
  },
  {
   "cell_type": "markdown",
   "id": "22ce6ce1",
   "metadata": {},
   "source": [
    "### Numpy Exercises"
   ]
  },
  {
   "cell_type": "code",
   "execution_count": 30,
   "id": "31f39349",
   "metadata": {},
   "outputs": [
    {
     "data": {
      "text/plain": [
       "<function numpy.__config__.show()>"
      ]
     },
     "execution_count": 30,
     "metadata": {},
     "output_type": "execute_result"
    }
   ],
   "source": [
    "#print(np._version_)\n",
    "np.show_config"
   ]
  },
  {
   "cell_type": "code",
   "execution_count": 31,
   "id": "1131484c",
   "metadata": {},
   "outputs": [
    {
     "name": "stdout",
     "output_type": "stream",
     "text": [
      "[0. 0. 0. 0. 0. 0. 0. 0. 0. 0.]\n"
     ]
    }
   ],
   "source": [
    "#create a null vector of size 10\n",
    "Z = np.zeros(10)\n",
    "print(Z)"
   ]
  },
  {
   "cell_type": "code",
   "execution_count": 32,
   "id": "cf312484",
   "metadata": {},
   "outputs": [],
   "source": [
    "#null vector of size whose value is 1\n",
    "Z = np.arange(50)\n",
    "Z = Z[::-1]"
   ]
  },
  {
   "cell_type": "code",
   "execution_count": 33,
   "id": "6c6df2a2",
   "metadata": {},
   "outputs": [
    {
     "name": "stdout",
     "output_type": "stream",
     "text": [
      "[10 11 12 13 14 15 16 17 18 19 20 21 22 23 24 25 26 27 28 29 30 31 32 33\n",
      " 34 35 36 37 38 39 40 41 42 43 44 45 46 47 48 49]\n"
     ]
    }
   ],
   "source": [
    "Z = np.arange(10,50)\n",
    "print(Z)"
   ]
  },
  {
   "cell_type": "code",
   "execution_count": 34,
   "id": "94804bf6",
   "metadata": {},
   "outputs": [],
   "source": [
    "Z = np.arange(50)\n",
    "Z = Z[::-1]"
   ]
  },
  {
   "cell_type": "code",
   "execution_count": 35,
   "id": "44fc4ca4",
   "metadata": {
    "scrolled": true
   },
   "outputs": [
    {
     "name": "stdout",
     "output_type": "stream",
     "text": [
      "Enter the number of rows: 2\n",
      "Enter the number of columns: 2\n",
      "Enter element at position (1, 1): 1\n",
      "Enter element at position (1, 2): 2\n",
      "Enter element at position (2, 1): 3\n",
      "Enter element at position (2, 2): 4\n",
      "\n",
      "Original Array:\n",
      "[[1 2]\n",
      " [3 4]]\n",
      "\n",
      "Reversed Array:\n",
      "[[2 1]\n",
      " [4 3]]\n"
     ]
    }
   ],
   "source": [
    "import numpy as np\n",
    "rows = int(input(\"Enter the number of rows: \"))\n",
    "cols = int(input(\"Enter the number of columns: \"))\n",
    "\n",
    "user_array = np.empty((rows, cols), dtype=int)\n",
    "for i in range(rows):\n",
    "    for j in range(cols):\n",
    "        user_array[i, j] = int(input(f\"Enter element at position ({i+1}, {j+1}): \"))\n",
    "\n",
    "print(\"\\nOriginal Array:\")\n",
    "print(user_array)\n",
    "\n",
    "reversed_array = user_array[:, ::-1]\n",
    "\n",
    "print(\"\\nReversed Array:\")\n",
    "print(reversed_array)"
   ]
  },
  {
   "cell_type": "code",
   "execution_count": 40,
   "id": "d33df216",
   "metadata": {},
   "outputs": [
    {
     "name": "stdout",
     "output_type": "stream",
     "text": [
      "[[8.0003149  5.81334771 7.81416118 9.43421559]\n",
      " [6.01202    7.90095796 6.3914896  7.5576884 ]\n",
      " [5.84384919 6.28085065 5.51468187 5.61298666]]\n"
     ]
    }
   ],
   "source": [
    "import numpy as np\n",
    "rows = 3\n",
    "cols = 4\n",
    "\n",
    "random_array = np.random.uniform(5.0, 10.0, size=(rows, cols))\n",
    "print(random_array)"
   ]
  },
  {
   "cell_type": "code",
   "execution_count": 56,
   "id": "3a31abd9",
   "metadata": {},
   "outputs": [
    {
     "ename": "TypeError",
     "evalue": "'str' object is not callable",
     "output_type": "error",
     "traceback": [
      "\u001b[1;31m---------------------------------------------------------------------------\u001b[0m",
      "\u001b[1;31mTypeError\u001b[0m                                 Traceback (most recent call last)",
      "Cell \u001b[1;32mIn[56], line 15\u001b[0m\n\u001b[0;32m     12\u001b[0m     \u001b[38;5;28mprint\u001b[39m(\u001b[38;5;124m\"\u001b[39m\u001b[38;5;124mError:\u001b[39m\u001b[38;5;124m\"\u001b[39m, e)\n\u001b[0;32m     14\u001b[0m \u001b[38;5;66;03m# Get input from user\u001b[39;00m\n\u001b[1;32m---> 15\u001b[0m inputarray \u001b[38;5;241m=\u001b[39m \u001b[38;5;28minput\u001b[39m(\u001b[38;5;124m\"\u001b[39m\u001b[38;5;124mEnter comma-separated values for the array: \u001b[39m\u001b[38;5;124m\"\u001b[39m)\n\u001b[0;32m     16\u001b[0m pinput \u001b[38;5;241m=\u001b[39m \u001b[38;5;28minput\u001b[39m(\u001b[38;5;124m\"\u001b[39m\u001b[38;5;124mEnter percentiles (comma-separated): \u001b[39m\u001b[38;5;124m\"\u001b[39m)\n\u001b[0;32m     17\u001b[0m percentiles \u001b[38;5;241m=\u001b[39m [\u001b[38;5;28mfloat\u001b[39m(p) \u001b[38;5;28;01mfor\u001b[39;00m p \u001b[38;5;129;01min\u001b[39;00m pinput\u001b[38;5;241m.\u001b[39msplit(\u001b[38;5;124m'\u001b[39m\u001b[38;5;124m,\u001b[39m\u001b[38;5;124m'\u001b[39m)]\n",
      "\u001b[1;31mTypeError\u001b[0m: 'str' object is not callable"
     ]
    }
   ],
   "source": [
    "import numpy as np\n",
    "\n",
    "def calculate_percentiles(inputarray, percentiles):\n",
    "  try:\n",
    "    array = np.array([float(x) for x in inputarray.split(',')])\n",
    "    if not all(0 <= p <= 100 for p in percentiles):\n",
    "      raise ValueError(\"Percentiles must be between 0 and 100\")\n",
    "    percentile_scores = np.percentile(array, percentiles)\n",
    "    for i in range(len(percentiles)):\n",
    "      print(f\"{percentiles[i]}th percentile: {percentile_scores[i]}\")\n",
    "  except ValueError as e:\n",
    "    print(\"Error:\", e)\n",
    "\n",
    "# Get input from user\n",
    "inputarray = input(\"Enter comma-separated values for the array: \")\n",
    "pinput = input(\"Enter percentiles (comma-separated): \")\n",
    "percentiles = [float(p) for p in pinput.split(',')]\n",
    "\n",
    "# Calculate and print percentiles\n",
    "calculate_percentiles(inputarray, percentiles)"
   ]
  },
  {
   "cell_type": "code",
   "execution_count": 45,
   "id": "ce7b054c",
   "metadata": {},
   "outputs": [
    {
     "name": "stdout",
     "output_type": "stream",
     "text": [
      "Indices of missing values: (array([2], dtype=int64),)\n"
     ]
    }
   ],
   "source": [
    "import numpy as np\n",
    "array = np.array([1.0, 2.0, np.nan, 4.0, 5.0])\n",
    "indices = np.where(np.isnan(array))\n",
    "print(\"Indices of missing values:\", indices)"
   ]
  },
  {
   "cell_type": "code",
   "execution_count": 43,
   "id": "b584227c",
   "metadata": {
    "scrolled": false
   },
   "outputs": [
    {
     "name": "stdout",
     "output_type": "stream",
     "text": [
      "Original Array:\n",
      "[[3 2 5]\n",
      " [1 4 6]\n",
      " [7 0 8]]\n",
      "\n",
      "Sorted Array by Column 1:\n",
      "[[7 0 8]\n",
      " [3 2 5]\n",
      " [1 4 6]]\n"
     ]
    }
   ],
   "source": [
    "import numpy as np\n",
    "original_array = np.array([[3, 2, 5],\n",
    "                           [1, 4, 6],\n",
    "                           [7, 0, 8]])\n",
    "\n",
    "sorted_array = original_array[original_array[:, 1].argsort()]\n",
    "print(\"Original Array:\")\n",
    "print(original_array)\n",
    "\n",
    "print(\"\\nSorted Array by Column 1:\")\n",
    "print(sorted_array)"
   ]
  },
  {
   "cell_type": "code",
   "execution_count": 53,
   "id": "6c5a8a9e",
   "metadata": {
    "scrolled": true
   },
   "outputs": [
    {
     "name": "stdout",
     "output_type": "stream",
     "text": [
      "Original 2D Array:\n",
      "[[1 2 3]\n",
      " [4 5 6]\n",
      " [7 8 9]]\n",
      "\n",
      "Flattened 1D Array:\n",
      "[1 2 3 4 5 6 7 8 9]\n"
     ]
    }
   ],
   "source": [
    "import numpy as np\n",
    "array_of_arrays = np.array([[1, 2, 3], [4, 5, 6], [7, 8, 9]])\n",
    "flat_array = array_of_arrays.flatten()\n",
    "\n",
    "print(\"Original 2D Array:\")\n",
    "print(array_of_arrays)\n",
    "\n",
    "print(\"\\nFlattened 1D Array:\")\n",
    "print(flat_array)"
   ]
  },
  {
   "cell_type": "code",
   "execution_count": 55,
   "id": "50c85332",
   "metadata": {},
   "outputs": [
    {
     "name": "stdout",
     "output_type": "stream",
     "text": [
      "Mean: 3.0\n",
      "Median: 3.0\n",
      "Mode: 1\n",
      "Standard deviation: 1.4142135623730951\n",
      "Euclidean distance: 1.0\n",
      "Manhattan distance: 1\n"
     ]
    }
   ],
   "source": [
    "import numpy as np\n",
    "\n",
    "# Sample data\n",
    "data = np.array([1, 2, 3, 4, 5])\n",
    "\n",
    "# Mean\n",
    "mean = np.mean(data)\n",
    "print(\"Mean:\", mean)\n",
    "\n",
    "# Median\n",
    "median = np.median(data)\n",
    "print(\"Median:\", median)\n",
    "\n",
    "# Mode\n",
    "mode = np.argmax(np.bincount(data))\n",
    "print(\"Mode:\", mode)\n",
    "\n",
    "# Standard deviation\n",
    "std_dev = np.std(data)\n",
    "print(\"Standard deviation:\", std_dev)\n",
    "\n",
    "# Euclidean distance (between first two elements)\n",
    "euclidean_distance = np.linalg.norm(data[0] - data[1])\n",
    "print(\"Euclidean distance:\", euclidean_distance)\n",
    "\n",
    "# Manhattan distance (between first two elements)\n",
    "manhattan_distance = np.sum(np.abs(data[0] - data[1]))\n",
    "print(\"Manhattan distance:\", manhattan_distance)\n"
   ]
  }
 ],
 "metadata": {
  "kernelspec": {
   "display_name": "Python 3 (ipykernel)",
   "language": "python",
   "name": "python3"
  },
  "language_info": {
   "codemirror_mode": {
    "name": "ipython",
    "version": 3
   },
   "file_extension": ".py",
   "mimetype": "text/x-python",
   "name": "python",
   "nbconvert_exporter": "python",
   "pygments_lexer": "ipython3",
   "version": "3.11.5"
  }
 },
 "nbformat": 4,
 "nbformat_minor": 5
}
