{
 "cells": [
  {
   "cell_type": "markdown",
   "id": "c1a27452",
   "metadata": {},
   "source": [
    "## LAB-02"
   ]
  },
  {
   "cell_type": "markdown",
   "id": "87d3bc92",
   "metadata": {},
   "source": [
    "### Conditional Statements "
   ]
  },
  {
   "cell_type": "code",
   "execution_count": 1,
   "id": "90d1fea9",
   "metadata": {},
   "outputs": [
    {
     "name": "stdout",
     "output_type": "stream",
     "text": [
      "10 is less than 20\n",
      "End of Program\n"
     ]
    }
   ],
   "source": [
    "if 10 < 20:\n",
    "    print('10 is less than 20')\n",
    "print('End of Program')"
   ]
  },
  {
   "cell_type": "code",
   "execution_count": 3,
   "id": "74c67071",
   "metadata": {},
   "outputs": [
    {
     "name": "stdout",
     "output_type": "stream",
     "text": [
      "Enter name: Prajukta\n",
      "Hello Prajukta, Good Morning!\n",
      "How are you?\n"
     ]
    }
   ],
   "source": [
    "name = input(\"Enter name: \")\n",
    "if name==\"Prajukta\":\n",
    "    print(\"Hello Prajukta, Good Morning!\")\n",
    "print(\"How are you?\")"
   ]
  },
  {
   "cell_type": "code",
   "execution_count": 4,
   "id": "b1e0f195",
   "metadata": {},
   "outputs": [
    {
     "name": "stdout",
     "output_type": "stream",
     "text": [
      "Enter name: Karthi\n",
      "Hello Guest! Good Morning!\n",
      "How are you?\n"
     ]
    }
   ],
   "source": [
    "name = input(\"Enter name: \")\n",
    "if name==\"Prajukta\":\n",
    "    print(\"Hello Prajukta, Good Morning!\")\n",
    "else:\n",
    "    print(\"Hello Guest! Good Morning!\")\n",
    "print(\"How are you?\")"
   ]
  },
  {
   "cell_type": "markdown",
   "id": "74cee13b",
   "metadata": {},
   "source": [
    "### Assignment "
   ]
  },
  {
   "cell_type": "markdown",
   "id": "7ed9935f",
   "metadata": {},
   "source": [
    "1. Write a program to find the biggest of given 2 numbers "
   ]
  },
  {
   "cell_type": "code",
   "execution_count": 5,
   "id": "39a0f74d",
   "metadata": {},
   "outputs": [
    {
     "name": "stdout",
     "output_type": "stream",
     "text": [
      "Enter the first number: 12\n",
      "Enter the second number: 45\n",
      "The largest number is: 45.0\n"
     ]
    }
   ],
   "source": [
    "num1 = float(input(\"Enter the first number: \"))\n",
    "num2 = float(input(\"Enter the second number: \"))\n",
    "\n",
    "if num1 > num2:\n",
    "    largest_number = num1\n",
    "else:\n",
    "    largest_number = num2\n",
    "\n",
    "print(\"The largest number is:\", largest_number)"
   ]
  },
  {
   "cell_type": "markdown",
   "id": "e4791704",
   "metadata": {},
   "source": [
    "2. Write a program to find the biggest of given 3 numbers "
   ]
  },
  {
   "cell_type": "code",
   "execution_count": 6,
   "id": "8cef3c38",
   "metadata": {},
   "outputs": [
    {
     "name": "stdout",
     "output_type": "stream",
     "text": [
      "Enter the first number: 12\n",
      "Enter the second number: 34\n",
      "Enter the third number: 45\n",
      "The largest number is: 45.0\n"
     ]
    }
   ],
   "source": [
    "num1 = float(input(\"Enter the first number: \"))\n",
    "num2 = float(input(\"Enter the second number: \"))\n",
    "num3 = float(input(\"Enter the third number: \"))\n",
    "\n",
    "if num1 >= num2 and num1 >= num3:\n",
    "    largest_number = num1\n",
    "elif num2 >= num1 and num2 >= num3:\n",
    "    largest_number = num2\n",
    "else:\n",
    "    largest_number = num3\n",
    "\n",
    "print(\"The largest number is:\", largest_number)"
   ]
  },
  {
   "cell_type": "markdown",
   "id": "a2d5d8bf",
   "metadata": {},
   "source": [
    "3. Write a program to find the smallest of given 3 numbers."
   ]
  },
  {
   "cell_type": "code",
   "execution_count": 8,
   "id": "448f8d88",
   "metadata": {},
   "outputs": [
    {
     "name": "stdout",
     "output_type": "stream",
     "text": [
      "Enter the first number: 12\n",
      "Enter the second number: 45\n",
      "Enter the third number: 9\n",
      "The smallest number is: 9.0\n"
     ]
    }
   ],
   "source": [
    "num1 = float(input(\"Enter the first number: \"))\n",
    "num2 = float(input(\"Enter the second number: \"))\n",
    "num3 = float(input(\"Enter the third number: \"))\n",
    "\n",
    "if num1 <= num2 and num1 <= num3:\n",
    "    smallest = num1\n",
    "elif num2 <= num1 and num2 <= num3:\n",
    "    smallest = num2\n",
    "else:\n",
    "    smallest = num3\n",
    "\n",
    "print(\"The smallest number is:\", smallest)"
   ]
  },
  {
   "cell_type": "markdown",
   "id": "51a8e83e",
   "metadata": {},
   "source": [
    "4. Write a program to check whether the given number is even or odd."
   ]
  },
  {
   "cell_type": "code",
   "execution_count": 10,
   "id": "ae79fb21",
   "metadata": {},
   "outputs": [
    {
     "name": "stdout",
     "output_type": "stream",
     "text": [
      "Enter the first number: 12\n",
      "The given number is even.\n"
     ]
    }
   ],
   "source": [
    "num = float(input(\"Enter the first number: \"))\n",
    "\n",
    "if num % 2 == 0:\n",
    "    print(\"The given number is even.\")\n",
    "else:\n",
    "    print(\"The given number is odd.\")"
   ]
  },
  {
   "cell_type": "markdown",
   "id": "72e911af",
   "metadata": {},
   "source": [
    "5. Write a program to check whether the given number is between 1 and 100."
   ]
  },
  {
   "cell_type": "code",
   "execution_count": 11,
   "id": "2d6ec581",
   "metadata": {},
   "outputs": [
    {
     "name": "stdout",
     "output_type": "stream",
     "text": [
      "Enter a random number: 101\n",
      "The given number is not within the range of 1-100.\n"
     ]
    }
   ],
   "source": [
    "num = float(input(\"Enter a random number: \"))\n",
    "\n",
    "if num >=1 and num<=100:\n",
    "    print(\"The given number is within the range of 1-100.\")\n",
    "else:\n",
    "    print(\"The given number is not within the range of 1-100.\")"
   ]
  },
  {
   "cell_type": "markdown",
   "id": "1050397a",
   "metadata": {},
   "source": [
    "6. Write a program to take a single digit from keyboard and print it's value in English word."
   ]
  },
  {
   "cell_type": "code",
   "execution_count": 12,
   "id": "6d97ccad",
   "metadata": {},
   "outputs": [
    {
     "name": "stdout",
     "output_type": "stream",
     "text": [
      "Enter a single-digit number: 2\n",
      "Two\n"
     ]
    }
   ],
   "source": [
    "digit = input(\"Enter a single-digit number: \")\n",
    "if len(digit) == 1:\n",
    "    digit = int(digit)\n",
    "\n",
    "    if digit == 0:\n",
    "        print(\"Zero\")\n",
    "    elif digit == 1:\n",
    "        print(\"One\")\n",
    "    elif digit == 2:\n",
    "        print(\"Two\")\n",
    "    elif digit == 3:\n",
    "        print(\"Three\")\n",
    "    elif digit == 4:\n",
    "        print(\"Four\")\n",
    "    elif digit == 5:\n",
    "        print(\"Five\")\n",
    "    elif digit == 6:\n",
    "        print(\"Six\")\n",
    "    elif digit == 7:\n",
    "        print(\"Seven\")\n",
    "    elif digit == 8:\n",
    "        print(\"Eight\")\n",
    "    elif digit == 9:\n",
    "        print(\"Nine\")\n",
    "    else:\n",
    "        print(\"Invalid input. Please enter a single-digit number.\")\n",
    "else:\n",
    "    print(\"Invalid input. Please enter a single-digit number.\")\n"
   ]
  },
  {
   "cell_type": "markdown",
   "id": "2993171d",
   "metadata": {},
   "source": [
    "7. WAP to check whether a year is leap year."
   ]
  },
  {
   "cell_type": "code",
   "execution_count": 13,
   "id": "70336148",
   "metadata": {
    "scrolled": true
   },
   "outputs": [
    {
     "name": "stdout",
     "output_type": "stream",
     "text": [
      "Enter the year: 2002\n",
      "2002 is not a leap year.\n"
     ]
    }
   ],
   "source": [
    "year = int(input(\"Enter the year: \"))\n",
    "\n",
    "if (year % 4 == 0 and year % 100 != 0) or (year % 400 == 0):\n",
    "    print(f\"{year} is a leap year.\")\n",
    "else:\n",
    "    print(f\"{year} is not a leap year.\")"
   ]
  },
  {
   "cell_type": "markdown",
   "id": "1bcb48ba",
   "metadata": {},
   "source": [
    "8. WAP to convert a word entered in lower case to upper case."
   ]
  },
  {
   "cell_type": "code",
   "execution_count": 2,
   "id": "afb228f7",
   "metadata": {},
   "outputs": [
    {
     "name": "stdout",
     "output_type": "stream",
     "text": [
      "Enter a lower-case string: word\n",
      "WORD\n"
     ]
    }
   ],
   "source": [
    "str = input(\"Enter a lower-case string: \")\n",
    "upper_case = str.upper()\n",
    "print(upper_case)"
   ]
  },
  {
   "cell_type": "markdown",
   "id": "da7aa465",
   "metadata": {},
   "source": [
    "9. WAP to accept percentage and display the grade accordingly."
   ]
  },
  {
   "cell_type": "code",
   "execution_count": 7,
   "id": "df9fbc20",
   "metadata": {},
   "outputs": [
    {
     "name": "stdout",
     "output_type": "stream",
     "text": [
      "Enter the percentage you recieved: 45\n",
      "Grade recieved is D.\n"
     ]
    }
   ],
   "source": [
    "percentage = float(input(\"Enter the percentage you recieved: \"))\n",
    "\n",
    "if percentage > 90:\n",
    "    print(\"Grade recieved is A.\")\n",
    "elif percentage > 80 and percentage <=90:\n",
    "    print(\"Grade recieved is B.\")\n",
    "elif percentage >=60 and percentage <=80:\n",
    "    print(\"Grade recieved is C.\")\n",
    "else:\n",
    "    print(\"Grade recieved is D.\")"
   ]
  },
  {
   "cell_type": "markdown",
   "id": "372bf307",
   "metadata": {},
   "source": [
    "10. WAP to print the tax."
   ]
  },
  {
   "cell_type": "code",
   "execution_count": 9,
   "id": "e40370e2",
   "metadata": {},
   "outputs": [
    {
     "name": "stdout",
     "output_type": "stream",
     "text": [
      "Enter the cost price: 43000\n",
      "Tax to pay is 5%. Tax amount: 2150.0\n"
     ]
    }
   ],
   "source": [
    "cost = float(input(\"Enter the cost price: \"))\n",
    "\n",
    "if cost > 100000:\n",
    "    taxp = 15\n",
    "elif cost > 50000 and cost <= 100000:\n",
    "    taxp = 10\n",
    "else:\n",
    "    taxp = 5\n",
    "\n",
    "taxamount = (taxp / 100) * cost\n",
    "print(f\"Tax to pay is {taxp}%. Tax amount: {taxamount}\")"
   ]
  },
  {
   "cell_type": "markdown",
   "id": "c80f6fdc",
   "metadata": {},
   "source": [
    "11. WAP to check whether a number is 3 digit number or not."
   ]
  },
  {
   "cell_type": "code",
   "execution_count": 11,
   "id": "32a32014",
   "metadata": {},
   "outputs": [
    {
     "name": "stdout",
     "output_type": "stream",
     "text": [
      "Enter a number: 456\n",
      "The number is a 3 digit number.\n"
     ]
    }
   ],
   "source": [
    "num = int(input(\"Enter a number: \"))\n",
    "\n",
    "if 100 <= num <= 999:\n",
    "    print(\"The number is a 3 digit number.\")\n",
    "else:\n",
    "    print(\"The number is not a 3 digit number.\")\n"
   ]
  },
  {
   "cell_type": "markdown",
   "id": "f1aebe56",
   "metadata": {},
   "source": [
    "12. Write a program to accept a number from 1 to 12 and display the name of the month and days in that month."
   ]
  },
  {
   "cell_type": "code",
   "execution_count": 13,
   "id": "faea23b7",
   "metadata": {
    "scrolled": true
   },
   "outputs": [
    {
     "name": "stdout",
     "output_type": "stream",
     "text": [
      "Enter a number between 1-12: 4\n",
      "April\n",
      "The number of days it has is 30.\n"
     ]
    }
   ],
   "source": [
    "num = int(input(\"Enter a number between 1-12: \"))\n",
    "\n",
    "if num == 1:\n",
    "    print(\"January\")\n",
    "    print(\"The number of days it has is 31.\")\n",
    "elif num == 2:\n",
    "    print(\"February\")\n",
    "    print(\"The number of days it has is 28.\")\n",
    "elif num == 3:\n",
    "    print(\"March\")\n",
    "    print(\"The number of days it has is 31.\")\n",
    "elif num == 4:\n",
    "    print(\"April\")\n",
    "    print(\"The number of days it has is 30.\")\n",
    "elif num == 5:\n",
    "    print(\"May\")\n",
    "    print(\"The number of days it has is 31.\")\n",
    "elif num == 6:\n",
    "    print(\"June\")\n",
    "    print(\"The number of days it has is 30.\")\n",
    "elif num == 7:\n",
    "    print(\"July\")\n",
    "    print(\"The number of days it has is 31.\")\n",
    "elif num == 8:\n",
    "    print(\"August\")\n",
    "    print(\"The number of days it has is 31.\")\n",
    "elif num == 9:\n",
    "    print(\"September\")\n",
    "    print(\"The number of days it has is 30.\")\n",
    "elif num == 10:\n",
    "    print(\"October\")\n",
    "    print(\"The number of days it has is 31.\")\n",
    "elif num == 11:\n",
    "    print(\"November\")\n",
    "    print(\"The number of days it has is 30.\")\n",
    "elif num == 12:\n",
    "    print(\"December\")\n",
    "    print(\"The number of days it has is 31.\")\n",
    "else:\n",
    "    print(\"Invalid input. Please enter a value between 1-12.\")"
   ]
  },
  {
   "cell_type": "markdown",
   "id": "e9538253",
   "metadata": {},
   "source": [
    "13. A comapany decided to give bonus of 5% to employee, if his/her year of service is more than 5 years. Ask user for their salary a d year of service and print the net bonus amount."
   ]
  },
  {
   "cell_type": "code",
   "execution_count": 15,
   "id": "609ee08b",
   "metadata": {},
   "outputs": [
    {
     "name": "stdout",
     "output_type": "stream",
     "text": [
      "Enter your salary: 12000\n",
      "Enter your years of service: 6\n",
      "You get a bonus. Your net bonus amount is: 600.00\n"
     ]
    }
   ],
   "source": [
    "salary = float(input(\"Enter your salary: \"))\n",
    "year_service = int(input(\"Enter your years of service: \"))\n",
    "\n",
    "if year_service > 5:\n",
    "    \n",
    "    bonus = 0.05 * salary\n",
    "    print(f\"You get a bonus. Your net bonus amount is: {bonus:.2f}\")\n",
    "else:\n",
    "    print(\"You don't get a bonus.\")"
   ]
  },
  {
   "cell_type": "markdown",
   "id": "4c238a57",
   "metadata": {},
   "source": [
    "14. Take values of length and breadth of a rectangle from user and check if it is a square or not."
   ]
  },
  {
   "cell_type": "code",
   "execution_count": 16,
   "id": "d8ab6191",
   "metadata": {},
   "outputs": [
    {
     "name": "stdout",
     "output_type": "stream",
     "text": [
      "Enter the length: 12\n",
      "Enter the breadth: 12\n",
      "It is a sqaure.\n"
     ]
    }
   ],
   "source": [
    "length = float(input(\"Enter the length: \"))\n",
    "breadth = float(input(\"Enter the breadth: \"))\n",
    "\n",
    "if (length == breadth):\n",
    "    print(\"It is a sqaure.\")\n",
    "else:\n",
    "    print(\"It is not a square.\")"
   ]
  },
  {
   "cell_type": "markdown",
   "id": "8aefd97b",
   "metadata": {},
   "source": [
    "15. A shop will give discount of 10% if the cost of purchased quantity is more than 1000. Ask user for quantity. Suppose one unit will cost 100. Judge and print the total cost for user."
   ]
  },
  {
   "cell_type": "code",
   "execution_count": 20,
   "id": "1769f4a4",
   "metadata": {},
   "outputs": [
    {
     "name": "stdout",
     "output_type": "stream",
     "text": [
      "Enter the quantity: 2\n",
      "The total cost is: 200.00\n"
     ]
    }
   ],
   "source": [
    "quantity = float(input(\"Enter the quantity: \"))\n",
    "cost = quantity * 100\n",
    "\n",
    "if cost > 1000:\n",
    "    discount = 10\n",
    "    updated_cost = cost - (discount / 100) * cost\n",
    "    print(\"The total updated cost is: {:.2f}\".format(updated_cost))\n",
    "else:\n",
    "    print(\"The total cost is: {:.2f}\".format(cost))"
   ]
  }
 ],
 "metadata": {
  "kernelspec": {
   "display_name": "Python 3 (ipykernel)",
   "language": "python",
   "name": "python3"
  },
  "language_info": {
   "codemirror_mode": {
    "name": "ipython",
    "version": 3
   },
   "file_extension": ".py",
   "mimetype": "text/x-python",
   "name": "python",
   "nbconvert_exporter": "python",
   "pygments_lexer": "ipython3",
   "version": "3.11.5"
  }
 },
 "nbformat": 4,
 "nbformat_minor": 5
}
