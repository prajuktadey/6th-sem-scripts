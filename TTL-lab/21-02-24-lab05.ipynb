{
 "cells": [
  {
   "cell_type": "code",
   "execution_count": 9,
   "id": "350dcce2",
   "metadata": {},
   "outputs": [
    {
     "name": "stdout",
     "output_type": "stream",
     "text": [
      "KIIT University\n"
     ]
    }
   ],
   "source": [
    "def my_function():\n",
    "    print(\"KIIT University\")\n",
    "my_function()"
   ]
  },
  {
   "cell_type": "code",
   "execution_count": 8,
   "id": "ecc5f95e",
   "metadata": {},
   "outputs": [
    {
     "name": "stdout",
     "output_type": "stream",
     "text": [
      "Hello  Python\n",
      "Hello  KIIT\n"
     ]
    }
   ],
   "source": [
    "def my_function(name):\n",
    "    print(\"Hello \", name)\n",
    "my_function(\"Python\")\n",
    "my_function(\"KIIT\")"
   ]
  },
  {
   "cell_type": "code",
   "execution_count": 7,
   "id": "e82f6fd7",
   "metadata": {},
   "outputs": [
    {
     "name": "stdout",
     "output_type": "stream",
     "text": [
      "Hello KIIT\n"
     ]
    }
   ],
   "source": [
    "def my_function(name1,name2):\n",
    "    print(name1, name2)\n",
    "my_function(\"Hello\", \"KIIT\")"
   ]
  },
  {
   "cell_type": "code",
   "execution_count": 6,
   "id": "85c0239e",
   "metadata": {},
   "outputs": [
    {
     "name": "stdout",
     "output_type": "stream",
     "text": [
      "even\n",
      "odd\n"
     ]
    }
   ],
   "source": [
    "def evenOdd(x):\n",
    "    if (x % 2 == 0):\n",
    "        print(\"even\")\n",
    "    else:\n",
    "        print(\"odd\")\n",
    "# Driver code to call the function\n",
    "evenOdd(2)\n",
    "evenOdd(3)"
   ]
  },
  {
   "cell_type": "code",
   "execution_count": 10,
   "id": "b0940bff",
   "metadata": {
    "scrolled": true
   },
   "outputs": [
    {
     "name": "stdout",
     "output_type": "stream",
     "text": [
      "x:  10\n",
      "y:  50\n"
     ]
    }
   ],
   "source": [
    "def myFun(x, y=50):\n",
    "    print(\"x: \", x)\n",
    "    print(\"y: \", y)\n",
    "myFun(10)"
   ]
  },
  {
   "cell_type": "code",
   "execution_count": 11,
   "id": "d1a08caf",
   "metadata": {
    "scrolled": true
   },
   "outputs": [
    {
     "name": "stdout",
     "output_type": "stream",
     "text": [
      "Case-1:\n",
      "Hi, I am Suraj\n",
      "My age is  27\n",
      "\n",
      "Case-2:\n",
      "Hi, I am 27\n",
      "My age is  Suraj\n"
     ]
    }
   ],
   "source": [
    "def nameAge(name, age):\n",
    "    print(\"Hi, I am\", name)\n",
    "    print(\"My age is \", age)\n",
    "\n",
    "print(\"Case-1:\")\n",
    "nameAge(\"Suraj\", 27)\n",
    "\n",
    "print(\"\\nCase-2:\")\n",
    "nameAge(27, \"Suraj\")"
   ]
  },
  {
   "cell_type": "code",
   "execution_count": 12,
   "id": "36233d94",
   "metadata": {},
   "outputs": [
    {
     "name": "stdout",
     "output_type": "stream",
     "text": [
      "Hello\n",
      "Welcome\n",
      "to\n",
      "KIIT\n"
     ]
    }
   ],
   "source": [
    "# Python program to illustrate\n",
    "# *args for variable number of arguments\n",
    "def myFun(*argv):\n",
    "    for arg in argv:\n",
    "        print(arg)\n",
    "myFun('Hello', 'Welcome', 'to', 'KIIT')"
   ]
  },
  {
   "cell_type": "code",
   "execution_count": 13,
   "id": "a8458296",
   "metadata": {},
   "outputs": [
    {
     "name": "stdout",
     "output_type": "stream",
     "text": [
      "first == KIIT\n",
      "mid == Deemed\n",
      "last == University\n"
     ]
    }
   ],
   "source": [
    "def myFun(**kwargs):\n",
    "    for key, value in kwargs.items():\n",
    "        print(\"%s == %s\" % (key, value))\n",
    "        \n",
    "# Driver code\n",
    "myFun(first='KIIT', mid='Deemed',\n",
    "last='University')"
   ]
  },
  {
   "cell_type": "code",
   "execution_count": 14,
   "id": "83cedcd7",
   "metadata": {},
   "outputs": [
    {
     "name": "stdout",
     "output_type": "stream",
     "text": [
      "15\n"
     ]
    }
   ],
   "source": [
    "x = lambda a : a + 10\n",
    "print(x(5))"
   ]
  },
  {
   "cell_type": "code",
   "execution_count": 15,
   "id": "6744591b",
   "metadata": {},
   "outputs": [
    {
     "name": "stdout",
     "output_type": "stream",
     "text": [
      "33\n"
     ]
    }
   ],
   "source": [
    "def myfunc(n):\n",
    "    return lambda a : a * n\n",
    "\n",
    "mytripler = myfunc(3)\n",
    "print(mytripler(11))"
   ]
  },
  {
   "cell_type": "code",
   "execution_count": 19,
   "id": "224f93d5",
   "metadata": {},
   "outputs": [
    {
     "name": "stdout",
     "output_type": "stream",
     "text": [
      "Invoking function defined with def keyword:\n",
      "Finding cube of number:30\n",
      "27000\n"
     ]
    }
   ],
   "source": [
    "def cube(y):\n",
    "    print(f\"Finding cube of number:{y}\")\n",
    "    return y * y * y\n",
    "\n",
    "lambda_cube = lambda num: num ** 3\n",
    "\n",
    "# invoking simple function\n",
    "print(\"Invoking function defined with def keyword:\")\n",
    "print(cube(30))"
   ]
  },
  {
   "cell_type": "code",
   "execution_count": 20,
   "id": "e0ed88fe",
   "metadata": {
    "scrolled": true
   },
   "outputs": [
    {
     "name": "stdout",
     "output_type": "stream",
     "text": [
      "[2, 4, 6, 8]\n"
     ]
    }
   ],
   "source": [
    "def addition(n):\n",
    "    return n + n\n",
    "\n",
    "numbers = (1, 2, 3, 4)\n",
    "result = map(addition, numbers)\n",
    "print(list(result))"
   ]
  },
  {
   "cell_type": "code",
   "execution_count": 21,
   "id": "fb123098",
   "metadata": {
    "scrolled": true
   },
   "outputs": [
    {
     "name": "stdout",
     "output_type": "stream",
     "text": [
      "[2, 4, 6, 8]\n"
     ]
    }
   ],
   "source": [
    "numbers = (1, 2, 3, 4)\n",
    "result = map(lambda x: x + x,\n",
    "numbers)\n",
    "print(list(result))"
   ]
  },
  {
   "cell_type": "code",
   "execution_count": 24,
   "id": "4337e9d7",
   "metadata": {},
   "outputs": [
    {
     "name": "stdout",
     "output_type": "stream",
     "text": [
      "The filtered letters are:\n",
      "e\n",
      "e\n"
     ]
    }
   ],
   "source": [
    "# function that filters vowels\n",
    "def fun(variable):\n",
    "    letters = ['a', 'e', 'i', 'o', 'u']\n",
    "    if (variable in letters):\n",
    "        return True\n",
    "    else:\n",
    "        return False\n",
    "    \n",
    "    \n",
    "# sequence\n",
    "sequence = ['g', 'e', 'e', 'j', 'k', 's', 'p','r']\n",
    "\n",
    "# using filter function\n",
    "filtered = filter(fun, sequence)\n",
    "print('The filtered letters are:')\n",
    "for s in filtered:\n",
    "    print(s)"
   ]
  },
  {
   "cell_type": "markdown",
   "id": "24be8f24",
   "metadata": {},
   "source": [
    "### Assignment 5"
   ]
  },
  {
   "cell_type": "code",
   "execution_count": 3,
   "id": "83947c76",
   "metadata": {},
   "outputs": [
    {
     "name": "stdout",
     "output_type": "stream",
     "text": [
      "Enter the name for student 1: Prajukta \n",
      "Enter TTL marks: 90\n",
      "Enter CD marks: 23\n",
      "Enter CC marks: 23\n",
      "Student Name: Prajukta \n",
      "Marks: [90, 23, 23]\n"
     ]
    }
   ],
   "source": [
    "class Student:\n",
    "    def add_marks(self, name, subjects):\n",
    "        self.name = name\n",
    "        self.marks = [int(input(f\"Enter {subject} marks: \")) for subject in subjects]\n",
    "        print(f\"Student Name: {self.name}\")\n",
    "        print(\"Marks:\", self.marks)\n",
    "\n",
    "if __name__ == \"__main__\":\n",
    "    student1 = Student()\n",
    "    subjects = [\"TTL\", \"CD\", \"CC\"]\n",
    "\n",
    "    # Adding marks for each subject for the student using user input\n",
    "    student1.add_marks(input(\"Enter the name for student 1: \"), subjects)\n"
   ]
  },
  {
   "cell_type": "code",
   "execution_count": 4,
   "id": "2f7fc65a",
   "metadata": {},
   "outputs": [
    {
     "name": "stdout",
     "output_type": "stream",
     "text": [
      "Enter Employee Name: A\n",
      "Enter Designation: Manager\n",
      "Enter Salary: 12000\n",
      "\n",
      "Employee Details:\n",
      "Employee Name: A\n",
      "Designation: Manager\n",
      "Salary: 12000.0\n",
      "\n"
     ]
    }
   ],
   "source": [
    "#WAP in python with class Employee that keeps a track of the number of employees in an organization and also stores their name, designation and salary details.\n",
    "class Employee:\n",
    "\n",
    "    def __init__(self, name, designation, salary):\n",
    "        self.name = name\n",
    "        self.designation = designation\n",
    "        self.salary = salary\n",
    "\n",
    "    def display_details(self):\n",
    "        print(f\"Employee Name: {self.name}\")\n",
    "        print(f\"Designation: {self.designation}\")\n",
    "        print(f\"Salary: {self.salary}\\n\")\n",
    "\n",
    "if __name__ == \"__main__\":\n",
    "    name = input(\"Enter Employee Name: \")\n",
    "    designation = input(\"Enter Designation: \")\n",
    "    salary = float(input(\"Enter Salary: \"))  # Assuming salary is a float\n",
    "\n",
    "    employee = Employee(name, designation, salary)\n",
    "\n",
    "    print(\"\\nEmployee Details:\")\n",
    "    employee.display_details()"
   ]
  },
  {
   "cell_type": "code",
   "execution_count": 5,
   "id": "92001623",
   "metadata": {},
   "outputs": [
    {
     "name": "stdout",
     "output_type": "stream",
     "text": [
      "Enter person's name: A\n",
      "Enter date of birth (YYYY-MM-DD): 2002-09-12\n",
      "A is eligible to vote.\n"
     ]
    }
   ],
   "source": [
    "from datetime import datetime, timedelta\n",
    "\n",
    "class Person:\n",
    "    def __init__(self, name, dob):\n",
    "        self.name = name\n",
    "        self.dob = datetime.strptime(dob, \"%Y-%m-%d\")\n",
    "\n",
    "    def calculate_age(self):\n",
    "        today = datetime.now()\n",
    "        age = today.year - self.dob.year - ((today.month, today.day) < (self.dob.month, self.dob.day))\n",
    "        return age\n",
    "\n",
    "    def check_voting_eligibility(self):\n",
    "        age = self.calculate_age()\n",
    "        if age >= 18:\n",
    "            print(f\"{self.name} is eligible to vote.\")\n",
    "        else:\n",
    "            print(f\"{self.name} is not eligible to vote yet. Age: {age}\")\n",
    "\n",
    "if __name__ == \"__main__\":\n",
    "    name = input(\"Enter person's name: \")\n",
    "    dob = input(\"Enter date of birth (YYYY-MM-DD): \")\n",
    "    person = Person(name, dob)\n",
    "    person.check_voting_eligibility()"
   ]
  },
  {
   "cell_type": "code",
   "execution_count": 6,
   "id": "b1fa75d2",
   "metadata": {
    "scrolled": true
   },
   "outputs": [
    {
     "name": "stdout",
     "output_type": "stream",
     "text": [
      "Enter the radius of the circle: 2\n",
      "Area: 12.56\n",
      "Circumference: 12.56\n"
     ]
    }
   ],
   "source": [
    "class Circle:\n",
    "    Pi = 3.14\n",
    "\n",
    "    def __init__(self, radius):\n",
    "        self.radius = radius\n",
    "\n",
    "    def area(self):\n",
    "        return Circle.Pi * self.radius ** 2\n",
    "\n",
    "    def circumference(self):\n",
    "        return 2 * Circle.Pi * self.radius\n",
    "\n",
    "if __name__ == \"__main__\":\n",
    "    radius = float(input(\"Enter the radius of the circle: \"))\n",
    "    circle = Circle(radius)\n",
    "    print(f\"Area: {circle.area()}\")\n",
    "    print(f\"Circumference: {circle.circumference()}\")"
   ]
  },
  {
   "cell_type": "code",
   "execution_count": 1,
   "id": "b4055d87",
   "metadata": {},
   "outputs": [
    {
     "name": "stdout",
     "output_type": "stream",
     "text": [
      "Enter student name: A\n",
      "Enter roll number: 63\n",
      "Enter marks for subject 1: 89\n",
      "Enter marks for subject 2: 90\n",
      "Enter marks for subject 3: 12\n",
      "Name: A\n",
      "Roll No: 63\n",
      "Total Marks: 191\n",
      "\n"
     ]
    }
   ],
   "source": [
    "class Student:\n",
    "    def __init__(self, name, roll_no, marks):\n",
    "        self.name, self.roll_no, self.marks = name, roll_no, marks\n",
    "\n",
    "    def display_info(self):\n",
    "        print(f\"Name: {self.name}\\nRoll No: {self.roll_no}\\nTotal Marks: {sum(self.marks)}\\n\")\n",
    "\n",
    "if __name__ == \"__main__\":\n",
    "    name = input(\"Enter student name: \")\n",
    "    roll_no = input(\"Enter roll number: \")\n",
    "    marks = [int(input(f\"Enter marks for subject {i + 1}: \")) for i in range(3)]\n",
    "\n",
    "\n",
    "    Student(name, roll_no, marks).display_info()"
   ]
  },
  {
   "cell_type": "code",
   "execution_count": 2,
   "id": "79615f53",
   "metadata": {},
   "outputs": [
    {
     "name": "stdout",
     "output_type": "stream",
     "text": [
      "Enter length of the rectangle: 2\n",
      "Enter breadth of the rectangle: 3\n",
      "Area of the rectangle: 6.0\n"
     ]
    }
   ],
   "source": [
    "class Rectangle:\n",
    "    def __init__(self, length, breadth):\n",
    "        self.length, self.breadth = length, breadth\n",
    "\n",
    "    def area(self):\n",
    "        return self.length * self.breadth\n",
    "    \n",
    "if __name__ == \"__main__\":\n",
    "    length = float(input(\"Enter length of the rectangle: \"))\n",
    "    breadth = float(input(\"Enter breadth of the rectangle: \"))\n",
    "    rectangle = Rectangle(length, breadth)\n",
    "    \n",
    "    print(f\"Area of the rectangle: {rectangle.area()}\")"
   ]
  },
  {
   "cell_type": "code",
   "execution_count": 3,
   "id": "923eebae",
   "metadata": {},
   "outputs": [
    {
     "name": "stdout",
     "output_type": "stream",
     "text": [
      "Enter numerator: 45\n",
      "Enter denominator: 5\n",
      "Simplified Fraction: 9\n"
     ]
    }
   ],
   "source": [
    "from fractions import Fraction\n",
    "\n",
    "class FractionClass:\n",
    "    def __init__(self, numerator, denominator):\n",
    "        self.fraction = Fraction(numerator, denominator)\n",
    "\n",
    "    def print_simplified_fraction(self):\n",
    "        print(f\"Simplified Fraction: {self.fraction}\")\n",
    "\n",
    "if __name__ == \"__main__\":\n",
    "    numerator = int(input(\"Enter numerator: \"))\n",
    "    denominator = int(input(\"Enter denominator: \"))\n",
    "\n",
    "    fraction_obj = FractionClass(numerator, denominator)\n",
    "\n",
    "    fraction_obj.print_simplified_fraction()"
   ]
  },
  {
   "cell_type": "code",
   "execution_count": 4,
   "id": "d943c9d2",
   "metadata": {},
   "outputs": [
    {
     "name": "stdout",
     "output_type": "stream",
     "text": [
      "Enter length of the rectangle: 12\n",
      "Enter breadth of the rectangle: 12\n",
      "Enter base of the triangle: 1\n",
      "Enter height of the triangle: 2\n",
      "Area of the rectangle: 144.0\n",
      "Area of the triangle: 1.0\n"
     ]
    }
   ],
   "source": [
    "class Polygon:\n",
    "    def calculate_area(self):\n",
    "        pass\n",
    "\n",
    "class Rectangle(Polygon):\n",
    "    def calculate_area(self):\n",
    "        length = float(input(\"Enter length of the rectangle: \"))\n",
    "        breadth = float(input(\"Enter breadth of the rectangle: \"))\n",
    "        return length * breadth\n",
    "\n",
    "class Triangle(Polygon):\n",
    "    def calculate_area(self):\n",
    "        base = float(input(\"Enter base of the triangle: \"))\n",
    "        height = float(input(\"Enter height of the triangle: \"))\n",
    "        return 0.5 * base * height\n",
    "\n",
    "if __name__ == \"__main__\":\n",
    "    rectangle = Rectangle()\n",
    "    triangle = Triangle()\n",
    "\n",
    "    area_rectangle = rectangle.calculate_area()\n",
    "    area_triangle = triangle.calculate_area()\n",
    "\n",
    "    print(f\"Area of the rectangle: {area_rectangle}\")\n",
    "    print(f\"Area of the triangle: {area_triangle}\")"
   ]
  },
  {
   "cell_type": "code",
   "execution_count": 6,
   "id": "7601650e",
   "metadata": {},
   "outputs": [
    {
     "name": "stdout",
     "output_type": "stream",
     "text": [
      "Enter the bill amount: 1200\n",
      "Bill Amount: 1200.00\n",
      "Payment by Card\n",
      "Bill Amount: 1200.00\n",
      "Payment by Cash\n"
     ]
    }
   ],
   "source": [
    "class Bill:\n",
    "    def __init__(self, amount):\n",
    "        self.amount = amount\n",
    "\n",
    "    def display_bill_details(self):\n",
    "        print(f\"Bill Amount: {self.amount:.2f}\")\n",
    "\n",
    "class CardPayment(Bill):\n",
    "    def pay_bill(self):\n",
    "        print(\"Payment by Card\")\n",
    "\n",
    "class CashPayment(Bill):\n",
    "    def pay_bill(self):\n",
    "        print(\"Payment by Cash\")\n",
    "\n",
    "if __name__ == \"__main__\":\n",
    "    bill_amount = float(input(\"Enter the bill amount: \"))\n",
    "\n",
    "\n",
    "    card_payment = CardPayment(bill_amount)\n",
    "    cash_payment = CashPayment(bill_amount)\n",
    "\n",
    "    card_payment.display_bill_details()\n",
    "    card_payment.pay_bill()\n",
    "\n",
    "    cash_payment.display_bill_details()\n",
    "    cash_payment.pay_bill()"
   ]
  },
  {
   "cell_type": "code",
   "execution_count": 8,
   "id": "5456f662",
   "metadata": {},
   "outputs": [
    {
     "name": "stdout",
     "output_type": "stream",
     "text": [
      "Name: Prajukta Dey\n",
      "Age: 21\n",
      "\n",
      "Department: Computer Science\n",
      "Publications: Introduction to Python Programming, Data Science: A Comprehensive Guide\n"
     ]
    }
   ],
   "source": [
    "class Person:\n",
    "    def __init__(self, name, age):\n",
    "        self.name, self.age = name, age\n",
    "\n",
    "    def display_details(self):\n",
    "        print(f\"Name: {self.name}\\nAge: {self.age}\\n\")\n",
    "\n",
    "class Faculty(Person):\n",
    "    def __init__(self, name, age, department):\n",
    "        super().__init__(name, age)\n",
    "        self.department, self.publications = department, self.Publications()\n",
    "\n",
    "    def display_details(self):\n",
    "        super().display_details()\n",
    "        print(f\"Department: {self.department}\")\n",
    "        self.publications.display_details()\n",
    "\n",
    "    class Publications:\n",
    "        def __init__(self):\n",
    "            self.articles = []\n",
    "\n",
    "        def add_article(self, article):\n",
    "            self.articles.append(article)\n",
    "\n",
    "        def display_details(self):\n",
    "            print(\"Publications:\", \", \".join(self.articles))\n",
    "\n",
    "if __name__ == \"__main__\":\n",
    "    faculty_member = Faculty(\"Prajukta Dey\", 21, \"Computer Science\")\n",
    "\n",
    "    faculty_member.publications.add_article(\"Introduction to Python Programming\")\n",
    "    faculty_member.publications.add_article(\"Data Science: A Comprehensive Guide\")\n",
    "\n",
    "    faculty_member.display_details()"
   ]
  }
 ],
 "metadata": {
  "kernelspec": {
   "display_name": "Python 3 (ipykernel)",
   "language": "python",
   "name": "python3"
  },
  "language_info": {
   "codemirror_mode": {
    "name": "ipython",
    "version": 3
   },
   "file_extension": ".py",
   "mimetype": "text/x-python",
   "name": "python",
   "nbconvert_exporter": "python",
   "pygments_lexer": "ipython3",
   "version": "3.11.5"
  }
 },
 "nbformat": 4,
 "nbformat_minor": 5
}
